{
  "cells": [
    {
      "cell_type": "markdown",
      "metadata": {
        "id": "70v5psoFAwGP"
      },
      "source": [
        "### IMPORTOWANIE BIBLIOTEK"
      ]
    },
    {
      "cell_type": "code",
      "execution_count": null,
      "metadata": {
        "id": "IhPUK3SDFhJz"
      },
      "outputs": [],
      "source": [
        "import pandas as pd\n",
        "import numpy as np\n",
        "from sklearn.model_selection import train_test_split\n",
        "import matplotlib.pyplot as plt\n",
        "import seaborn as sns\n",
        "from sklearn.model_selection import train_test_split \n",
        "import datetime"
      ]
    },
    {
      "cell_type": "markdown",
      "metadata": {
        "id": "og3sx-YPZXH3"
      },
      "source": [
        "### WCZYTANIE I ZAPOZNANIE SIĘ Z DANYMI"
      ]
    },
    {
      "cell_type": "code",
      "execution_count": null,
      "metadata": {
        "id": "1ooEvHW65sLb",
        "outputId": "5a912583-4be2-4857-b871-57bfbd3ebd0f"
      },
      "outputs": [
        {
          "name": "stderr",
          "output_type": "stream",
          "text": [
            "C:\\Users\\szymo\\AppData\\Local\\Temp\\ipykernel_7260\\3947608098.py:2: DtypeWarning: Columns (7,8) have mixed types. Specify dtype option on import or set low_memory=False.\n",
            "  flights = pd.read_csv(r\"C:\\Users\\szymo\\OneDrive\\Pulpit\\final_project\\flights\\flights.csv\")\n"
          ]
        }
      ],
      "source": [
        "airlines = pd.read_csv(r\"C:\\Users\\szymo\\OneDrive\\Pulpit\\final_project\\flights\\airlines.csv\")\n",
        "flights = pd.read_csv(r\"C:\\Users\\szymo\\OneDrive\\Pulpit\\final_project\\flights\\flights.csv\")\n",
        "airports = pd.read_csv(r\"C:\\Users\\szymo\\OneDrive\\Pulpit\\final_project\\flights\\airports.csv\")"
      ]
    },
    {
      "cell_type": "code",
      "execution_count": null,
      "metadata": {
        "colab": {
          "base_uri": "https://localhost:8080/",
          "height": 206
        },
        "id": "gopH4pcs7SmI",
        "outputId": "53a462eb-15f8-48cc-805f-bb2ff9a48201"
      },
      "outputs": [
        {
          "data": {
            "text/html": [
              "<div>\n",
              "<style scoped>\n",
              "    .dataframe tbody tr th:only-of-type {\n",
              "        vertical-align: middle;\n",
              "    }\n",
              "\n",
              "    .dataframe tbody tr th {\n",
              "        vertical-align: top;\n",
              "    }\n",
              "\n",
              "    .dataframe thead th {\n",
              "        text-align: right;\n",
              "    }\n",
              "</style>\n",
              "<table border=\"1\" class=\"dataframe\">\n",
              "  <thead>\n",
              "    <tr style=\"text-align: right;\">\n",
              "      <th></th>\n",
              "      <th>IATA_CODE</th>\n",
              "      <th>AIRLINE</th>\n",
              "    </tr>\n",
              "  </thead>\n",
              "  <tbody>\n",
              "    <tr>\n",
              "      <th>0</th>\n",
              "      <td>UA</td>\n",
              "      <td>United Air Lines Inc.</td>\n",
              "    </tr>\n",
              "    <tr>\n",
              "      <th>1</th>\n",
              "      <td>AA</td>\n",
              "      <td>American Airlines Inc.</td>\n",
              "    </tr>\n",
              "    <tr>\n",
              "      <th>2</th>\n",
              "      <td>US</td>\n",
              "      <td>US Airways Inc.</td>\n",
              "    </tr>\n",
              "    <tr>\n",
              "      <th>3</th>\n",
              "      <td>F9</td>\n",
              "      <td>Frontier Airlines Inc.</td>\n",
              "    </tr>\n",
              "    <tr>\n",
              "      <th>4</th>\n",
              "      <td>B6</td>\n",
              "      <td>JetBlue Airways</td>\n",
              "    </tr>\n",
              "  </tbody>\n",
              "</table>\n",
              "</div>"
            ],
            "text/plain": [
              "  IATA_CODE                 AIRLINE\n",
              "0        UA   United Air Lines Inc.\n",
              "1        AA  American Airlines Inc.\n",
              "2        US         US Airways Inc.\n",
              "3        F9  Frontier Airlines Inc.\n",
              "4        B6         JetBlue Airways"
            ]
          },
          "execution_count": 218,
          "metadata": {},
          "output_type": "execute_result"
        }
      ],
      "source": [
        "airlines.head()"
      ]
    },
    {
      "cell_type": "code",
      "execution_count": null,
      "metadata": {
        "colab": {
          "base_uri": "https://localhost:8080/"
        },
        "id": "kskhgKJt7V2O",
        "outputId": "acd072e3-33d8-4292-91d7-9934e3584409"
      },
      "outputs": [
        {
          "name": "stdout",
          "output_type": "stream",
          "text": [
            "<class 'pandas.core.frame.DataFrame'>\n",
            "RangeIndex: 14 entries, 0 to 13\n",
            "Data columns (total 2 columns):\n",
            " #   Column     Non-Null Count  Dtype \n",
            "---  ------     --------------  ----- \n",
            " 0   IATA_CODE  14 non-null     object\n",
            " 1   AIRLINE    14 non-null     object\n",
            "dtypes: object(2)\n",
            "memory usage: 352.0+ bytes\n"
          ]
        }
      ],
      "source": [
        "airlines.info()"
      ]
    },
    {
      "cell_type": "code",
      "execution_count": null,
      "metadata": {
        "colab": {
          "base_uri": "https://localhost:8080/",
          "height": 206
        },
        "id": "kxIV4zOf7Xw6",
        "outputId": "950a5c1b-84f3-4596-a9b0-784156233d35"
      },
      "outputs": [
        {
          "data": {
            "text/html": [
              "<div>\n",
              "<style scoped>\n",
              "    .dataframe tbody tr th:only-of-type {\n",
              "        vertical-align: middle;\n",
              "    }\n",
              "\n",
              "    .dataframe tbody tr th {\n",
              "        vertical-align: top;\n",
              "    }\n",
              "\n",
              "    .dataframe thead th {\n",
              "        text-align: right;\n",
              "    }\n",
              "</style>\n",
              "<table border=\"1\" class=\"dataframe\">\n",
              "  <thead>\n",
              "    <tr style=\"text-align: right;\">\n",
              "      <th></th>\n",
              "      <th>IATA_CODE</th>\n",
              "      <th>AIRPORT</th>\n",
              "      <th>CITY</th>\n",
              "      <th>STATE</th>\n",
              "      <th>COUNTRY</th>\n",
              "      <th>LATITUDE</th>\n",
              "      <th>LONGITUDE</th>\n",
              "    </tr>\n",
              "  </thead>\n",
              "  <tbody>\n",
              "    <tr>\n",
              "      <th>0</th>\n",
              "      <td>ABE</td>\n",
              "      <td>Lehigh Valley International Airport</td>\n",
              "      <td>Allentown</td>\n",
              "      <td>PA</td>\n",
              "      <td>USA</td>\n",
              "      <td>40.65236</td>\n",
              "      <td>-75.44040</td>\n",
              "    </tr>\n",
              "    <tr>\n",
              "      <th>1</th>\n",
              "      <td>ABI</td>\n",
              "      <td>Abilene Regional Airport</td>\n",
              "      <td>Abilene</td>\n",
              "      <td>TX</td>\n",
              "      <td>USA</td>\n",
              "      <td>32.41132</td>\n",
              "      <td>-99.68190</td>\n",
              "    </tr>\n",
              "    <tr>\n",
              "      <th>2</th>\n",
              "      <td>ABQ</td>\n",
              "      <td>Albuquerque International Sunport</td>\n",
              "      <td>Albuquerque</td>\n",
              "      <td>NM</td>\n",
              "      <td>USA</td>\n",
              "      <td>35.04022</td>\n",
              "      <td>-106.60919</td>\n",
              "    </tr>\n",
              "    <tr>\n",
              "      <th>3</th>\n",
              "      <td>ABR</td>\n",
              "      <td>Aberdeen Regional Airport</td>\n",
              "      <td>Aberdeen</td>\n",
              "      <td>SD</td>\n",
              "      <td>USA</td>\n",
              "      <td>45.44906</td>\n",
              "      <td>-98.42183</td>\n",
              "    </tr>\n",
              "    <tr>\n",
              "      <th>4</th>\n",
              "      <td>ABY</td>\n",
              "      <td>Southwest Georgia Regional Airport</td>\n",
              "      <td>Albany</td>\n",
              "      <td>GA</td>\n",
              "      <td>USA</td>\n",
              "      <td>31.53552</td>\n",
              "      <td>-84.19447</td>\n",
              "    </tr>\n",
              "  </tbody>\n",
              "</table>\n",
              "</div>"
            ],
            "text/plain": [
              "  IATA_CODE                              AIRPORT         CITY STATE COUNTRY   \n",
              "0       ABE  Lehigh Valley International Airport    Allentown    PA     USA  \\\n",
              "1       ABI             Abilene Regional Airport      Abilene    TX     USA   \n",
              "2       ABQ    Albuquerque International Sunport  Albuquerque    NM     USA   \n",
              "3       ABR            Aberdeen Regional Airport     Aberdeen    SD     USA   \n",
              "4       ABY   Southwest Georgia Regional Airport       Albany    GA     USA   \n",
              "\n",
              "   LATITUDE  LONGITUDE  \n",
              "0  40.65236  -75.44040  \n",
              "1  32.41132  -99.68190  \n",
              "2  35.04022 -106.60919  \n",
              "3  45.44906  -98.42183  \n",
              "4  31.53552  -84.19447  "
            ]
          },
          "execution_count": 220,
          "metadata": {},
          "output_type": "execute_result"
        }
      ],
      "source": [
        "airports.head()"
      ]
    },
    {
      "cell_type": "code",
      "execution_count": null,
      "metadata": {
        "colab": {
          "base_uri": "https://localhost:8080/"
        },
        "id": "X2TdolL97gNe",
        "outputId": "312013a7-fc0f-42af-89ef-339c003cc6b5"
      },
      "outputs": [
        {
          "name": "stdout",
          "output_type": "stream",
          "text": [
            "<class 'pandas.core.frame.DataFrame'>\n",
            "RangeIndex: 322 entries, 0 to 321\n",
            "Data columns (total 7 columns):\n",
            " #   Column     Non-Null Count  Dtype  \n",
            "---  ------     --------------  -----  \n",
            " 0   IATA_CODE  322 non-null    object \n",
            " 1   AIRPORT    322 non-null    object \n",
            " 2   CITY       322 non-null    object \n",
            " 3   STATE      322 non-null    object \n",
            " 4   COUNTRY    322 non-null    object \n",
            " 5   LATITUDE   319 non-null    float64\n",
            " 6   LONGITUDE  319 non-null    float64\n",
            "dtypes: float64(2), object(5)\n",
            "memory usage: 17.7+ KB\n"
          ]
        }
      ],
      "source": [
        "airports.info()"
      ]
    },
    {
      "cell_type": "code",
      "execution_count": null,
      "metadata": {
        "colab": {
          "base_uri": "https://localhost:8080/",
          "height": 299
        },
        "id": "kglxVITu7lih",
        "outputId": "6939e7ad-216c-46f3-c23f-558961790d73"
      },
      "outputs": [
        {
          "data": {
            "text/html": [
              "<div>\n",
              "<style scoped>\n",
              "    .dataframe tbody tr th:only-of-type {\n",
              "        vertical-align: middle;\n",
              "    }\n",
              "\n",
              "    .dataframe tbody tr th {\n",
              "        vertical-align: top;\n",
              "    }\n",
              "\n",
              "    .dataframe thead th {\n",
              "        text-align: right;\n",
              "    }\n",
              "</style>\n",
              "<table border=\"1\" class=\"dataframe\">\n",
              "  <thead>\n",
              "    <tr style=\"text-align: right;\">\n",
              "      <th></th>\n",
              "      <th>YEAR</th>\n",
              "      <th>MONTH</th>\n",
              "      <th>DAY</th>\n",
              "      <th>DAY_OF_WEEK</th>\n",
              "      <th>AIRLINE</th>\n",
              "      <th>FLIGHT_NUMBER</th>\n",
              "      <th>TAIL_NUMBER</th>\n",
              "      <th>ORIGIN_AIRPORT</th>\n",
              "      <th>DESTINATION_AIRPORT</th>\n",
              "      <th>SCHEDULED_DEPARTURE</th>\n",
              "      <th>...</th>\n",
              "      <th>ARRIVAL_TIME</th>\n",
              "      <th>ARRIVAL_DELAY</th>\n",
              "      <th>DIVERTED</th>\n",
              "      <th>CANCELLED</th>\n",
              "      <th>CANCELLATION_REASON</th>\n",
              "      <th>AIR_SYSTEM_DELAY</th>\n",
              "      <th>SECURITY_DELAY</th>\n",
              "      <th>AIRLINE_DELAY</th>\n",
              "      <th>LATE_AIRCRAFT_DELAY</th>\n",
              "      <th>WEATHER_DELAY</th>\n",
              "    </tr>\n",
              "  </thead>\n",
              "  <tbody>\n",
              "    <tr>\n",
              "      <th>0</th>\n",
              "      <td>2015</td>\n",
              "      <td>1</td>\n",
              "      <td>1</td>\n",
              "      <td>4</td>\n",
              "      <td>AS</td>\n",
              "      <td>98</td>\n",
              "      <td>N407AS</td>\n",
              "      <td>ANC</td>\n",
              "      <td>SEA</td>\n",
              "      <td>5</td>\n",
              "      <td>...</td>\n",
              "      <td>408.0</td>\n",
              "      <td>-22.0</td>\n",
              "      <td>0</td>\n",
              "      <td>0</td>\n",
              "      <td>NaN</td>\n",
              "      <td>NaN</td>\n",
              "      <td>NaN</td>\n",
              "      <td>NaN</td>\n",
              "      <td>NaN</td>\n",
              "      <td>NaN</td>\n",
              "    </tr>\n",
              "    <tr>\n",
              "      <th>1</th>\n",
              "      <td>2015</td>\n",
              "      <td>1</td>\n",
              "      <td>1</td>\n",
              "      <td>4</td>\n",
              "      <td>AA</td>\n",
              "      <td>2336</td>\n",
              "      <td>N3KUAA</td>\n",
              "      <td>LAX</td>\n",
              "      <td>PBI</td>\n",
              "      <td>10</td>\n",
              "      <td>...</td>\n",
              "      <td>741.0</td>\n",
              "      <td>-9.0</td>\n",
              "      <td>0</td>\n",
              "      <td>0</td>\n",
              "      <td>NaN</td>\n",
              "      <td>NaN</td>\n",
              "      <td>NaN</td>\n",
              "      <td>NaN</td>\n",
              "      <td>NaN</td>\n",
              "      <td>NaN</td>\n",
              "    </tr>\n",
              "    <tr>\n",
              "      <th>2</th>\n",
              "      <td>2015</td>\n",
              "      <td>1</td>\n",
              "      <td>1</td>\n",
              "      <td>4</td>\n",
              "      <td>US</td>\n",
              "      <td>840</td>\n",
              "      <td>N171US</td>\n",
              "      <td>SFO</td>\n",
              "      <td>CLT</td>\n",
              "      <td>20</td>\n",
              "      <td>...</td>\n",
              "      <td>811.0</td>\n",
              "      <td>5.0</td>\n",
              "      <td>0</td>\n",
              "      <td>0</td>\n",
              "      <td>NaN</td>\n",
              "      <td>NaN</td>\n",
              "      <td>NaN</td>\n",
              "      <td>NaN</td>\n",
              "      <td>NaN</td>\n",
              "      <td>NaN</td>\n",
              "    </tr>\n",
              "    <tr>\n",
              "      <th>3</th>\n",
              "      <td>2015</td>\n",
              "      <td>1</td>\n",
              "      <td>1</td>\n",
              "      <td>4</td>\n",
              "      <td>AA</td>\n",
              "      <td>258</td>\n",
              "      <td>N3HYAA</td>\n",
              "      <td>LAX</td>\n",
              "      <td>MIA</td>\n",
              "      <td>20</td>\n",
              "      <td>...</td>\n",
              "      <td>756.0</td>\n",
              "      <td>-9.0</td>\n",
              "      <td>0</td>\n",
              "      <td>0</td>\n",
              "      <td>NaN</td>\n",
              "      <td>NaN</td>\n",
              "      <td>NaN</td>\n",
              "      <td>NaN</td>\n",
              "      <td>NaN</td>\n",
              "      <td>NaN</td>\n",
              "    </tr>\n",
              "    <tr>\n",
              "      <th>4</th>\n",
              "      <td>2015</td>\n",
              "      <td>1</td>\n",
              "      <td>1</td>\n",
              "      <td>4</td>\n",
              "      <td>AS</td>\n",
              "      <td>135</td>\n",
              "      <td>N527AS</td>\n",
              "      <td>SEA</td>\n",
              "      <td>ANC</td>\n",
              "      <td>25</td>\n",
              "      <td>...</td>\n",
              "      <td>259.0</td>\n",
              "      <td>-21.0</td>\n",
              "      <td>0</td>\n",
              "      <td>0</td>\n",
              "      <td>NaN</td>\n",
              "      <td>NaN</td>\n",
              "      <td>NaN</td>\n",
              "      <td>NaN</td>\n",
              "      <td>NaN</td>\n",
              "      <td>NaN</td>\n",
              "    </tr>\n",
              "  </tbody>\n",
              "</table>\n",
              "<p>5 rows × 31 columns</p>\n",
              "</div>"
            ],
            "text/plain": [
              "   YEAR  MONTH  DAY  DAY_OF_WEEK AIRLINE  FLIGHT_NUMBER TAIL_NUMBER   \n",
              "0  2015      1    1            4      AS             98      N407AS  \\\n",
              "1  2015      1    1            4      AA           2336      N3KUAA   \n",
              "2  2015      1    1            4      US            840      N171US   \n",
              "3  2015      1    1            4      AA            258      N3HYAA   \n",
              "4  2015      1    1            4      AS            135      N527AS   \n",
              "\n",
              "  ORIGIN_AIRPORT DESTINATION_AIRPORT  SCHEDULED_DEPARTURE  ...  ARRIVAL_TIME   \n",
              "0            ANC                 SEA                    5  ...         408.0  \\\n",
              "1            LAX                 PBI                   10  ...         741.0   \n",
              "2            SFO                 CLT                   20  ...         811.0   \n",
              "3            LAX                 MIA                   20  ...         756.0   \n",
              "4            SEA                 ANC                   25  ...         259.0   \n",
              "\n",
              "   ARRIVAL_DELAY  DIVERTED  CANCELLED  CANCELLATION_REASON  AIR_SYSTEM_DELAY   \n",
              "0          -22.0         0          0                  NaN               NaN  \\\n",
              "1           -9.0         0          0                  NaN               NaN   \n",
              "2            5.0         0          0                  NaN               NaN   \n",
              "3           -9.0         0          0                  NaN               NaN   \n",
              "4          -21.0         0          0                  NaN               NaN   \n",
              "\n",
              "   SECURITY_DELAY  AIRLINE_DELAY  LATE_AIRCRAFT_DELAY  WEATHER_DELAY  \n",
              "0             NaN            NaN                  NaN            NaN  \n",
              "1             NaN            NaN                  NaN            NaN  \n",
              "2             NaN            NaN                  NaN            NaN  \n",
              "3             NaN            NaN                  NaN            NaN  \n",
              "4             NaN            NaN                  NaN            NaN  \n",
              "\n",
              "[5 rows x 31 columns]"
            ]
          },
          "execution_count": 222,
          "metadata": {},
          "output_type": "execute_result"
        }
      ],
      "source": [
        "flights.head()"
      ]
    },
    {
      "cell_type": "code",
      "execution_count": null,
      "metadata": {
        "colab": {
          "base_uri": "https://localhost:8080/"
        },
        "id": "LRwnXVTD7nio",
        "outputId": "e5e9fecd-8366-4afd-cbb2-cd93ab7cbf17"
      },
      "outputs": [
        {
          "name": "stdout",
          "output_type": "stream",
          "text": [
            "<class 'pandas.core.frame.DataFrame'>\n",
            "RangeIndex: 5819079 entries, 0 to 5819078\n",
            "Data columns (total 31 columns):\n",
            " #   Column               Non-Null Count    Dtype  \n",
            "---  ------               --------------    -----  \n",
            " 0   YEAR                 5819079 non-null  int64  \n",
            " 1   MONTH                5819079 non-null  int64  \n",
            " 2   DAY                  5819079 non-null  int64  \n",
            " 3   DAY_OF_WEEK          5819079 non-null  int64  \n",
            " 4   AIRLINE              5819079 non-null  object \n",
            " 5   FLIGHT_NUMBER        5819079 non-null  int64  \n",
            " 6   TAIL_NUMBER          5804358 non-null  object \n",
            " 7   ORIGIN_AIRPORT       5819079 non-null  object \n",
            " 8   DESTINATION_AIRPORT  5819079 non-null  object \n",
            " 9   SCHEDULED_DEPARTURE  5819079 non-null  int64  \n",
            " 10  DEPARTURE_TIME       5732926 non-null  float64\n",
            " 11  DEPARTURE_DELAY      5732926 non-null  float64\n",
            " 12  TAXI_OUT             5730032 non-null  float64\n",
            " 13  WHEELS_OFF           5730032 non-null  float64\n",
            " 14  SCHEDULED_TIME       5819073 non-null  float64\n",
            " 15  ELAPSED_TIME         5714008 non-null  float64\n",
            " 16  AIR_TIME             5714008 non-null  float64\n",
            " 17  DISTANCE             5819079 non-null  int64  \n",
            " 18  WHEELS_ON            5726566 non-null  float64\n",
            " 19  TAXI_IN              5726566 non-null  float64\n",
            " 20  SCHEDULED_ARRIVAL    5819079 non-null  int64  \n",
            " 21  ARRIVAL_TIME         5726566 non-null  float64\n",
            " 22  ARRIVAL_DELAY        5714008 non-null  float64\n",
            " 23  DIVERTED             5819079 non-null  int64  \n",
            " 24  CANCELLED            5819079 non-null  int64  \n",
            " 25  CANCELLATION_REASON  89884 non-null    object \n",
            " 26  AIR_SYSTEM_DELAY     1063439 non-null  float64\n",
            " 27  SECURITY_DELAY       1063439 non-null  float64\n",
            " 28  AIRLINE_DELAY        1063439 non-null  float64\n",
            " 29  LATE_AIRCRAFT_DELAY  1063439 non-null  float64\n",
            " 30  WEATHER_DELAY        1063439 non-null  float64\n",
            "dtypes: float64(16), int64(10), object(5)\n",
            "memory usage: 1.3+ GB\n"
          ]
        }
      ],
      "source": [
        "flights.info(verbose=True, show_counts=True)"
      ]
    },
    {
      "cell_type": "markdown",
      "metadata": {
        "id": "uYDX_p9FAwGR"
      },
      "source": [
        "### SPRWADZANIE ILOŚCI WARTOŚCI NULL I NAN W ZBIORZE"
      ]
    },
    {
      "cell_type": "code",
      "execution_count": null,
      "metadata": {
        "colab": {
          "base_uri": "https://localhost:8080/"
        },
        "id": "P-jywfPgZ9Zr",
        "outputId": "f7f57f0c-d989-4e7e-949e-fa12c1cbe62d"
      },
      "outputs": [
        {
          "name": "stdout",
          "output_type": "stream",
          "text": [
            "nr 0 kolumna YEAR ma 0 wartości null, 0 wartości nan\n",
            "nr 1 kolumna MONTH ma 0 wartości null, 0 wartości nan\n",
            "nr 2 kolumna DAY ma 0 wartości null, 0 wartości nan\n",
            "nr 3 kolumna DAY_OF_WEEK ma 0 wartości null, 0 wartości nan\n",
            "nr 4 kolumna AIRLINE ma 0 wartości null, 0 wartości nan\n",
            "nr 5 kolumna FLIGHT_NUMBER ma 0 wartości null, 0 wartości nan\n",
            "nr 6 kolumna TAIL_NUMBER ma 14721 wartości null, 14721 wartości nan\n",
            "nr 7 kolumna ORIGIN_AIRPORT ma 0 wartości null, 0 wartości nan\n",
            "nr 8 kolumna DESTINATION_AIRPORT ma 0 wartości null, 0 wartości nan\n",
            "nr 9 kolumna SCHEDULED_DEPARTURE ma 0 wartości null, 0 wartości nan\n",
            "nr 10 kolumna DEPARTURE_TIME ma 86153 wartości null, 86153 wartości nan\n",
            "nr 11 kolumna DEPARTURE_DELAY ma 86153 wartości null, 86153 wartości nan\n",
            "nr 12 kolumna TAXI_OUT ma 89047 wartości null, 89047 wartości nan\n",
            "nr 13 kolumna WHEELS_OFF ma 89047 wartości null, 89047 wartości nan\n",
            "nr 14 kolumna SCHEDULED_TIME ma 6 wartości null, 6 wartości nan\n",
            "nr 15 kolumna ELAPSED_TIME ma 105071 wartości null, 105071 wartości nan\n",
            "nr 16 kolumna AIR_TIME ma 105071 wartości null, 105071 wartości nan\n",
            "nr 17 kolumna DISTANCE ma 0 wartości null, 0 wartości nan\n",
            "nr 18 kolumna WHEELS_ON ma 92513 wartości null, 92513 wartości nan\n",
            "nr 19 kolumna TAXI_IN ma 92513 wartości null, 92513 wartości nan\n",
            "nr 20 kolumna SCHEDULED_ARRIVAL ma 0 wartości null, 0 wartości nan\n",
            "nr 21 kolumna ARRIVAL_TIME ma 92513 wartości null, 92513 wartości nan\n",
            "nr 22 kolumna ARRIVAL_DELAY ma 105071 wartości null, 105071 wartości nan\n",
            "nr 23 kolumna DIVERTED ma 0 wartości null, 0 wartości nan\n",
            "nr 24 kolumna CANCELLED ma 0 wartości null, 0 wartości nan\n",
            "nr 25 kolumna CANCELLATION_REASON ma 5729195 wartości null, 5729195 wartości nan\n",
            "nr 26 kolumna AIR_SYSTEM_DELAY ma 4755640 wartości null, 4755640 wartości nan\n",
            "nr 27 kolumna SECURITY_DELAY ma 4755640 wartości null, 4755640 wartości nan\n",
            "nr 28 kolumna AIRLINE_DELAY ma 4755640 wartości null, 4755640 wartości nan\n",
            "nr 29 kolumna LATE_AIRCRAFT_DELAY ma 4755640 wartości null, 4755640 wartości nan\n",
            "nr 30 kolumna WEATHER_DELAY ma 4755640 wartości null, 4755640 wartości nan\n"
          ]
        }
      ],
      "source": [
        "count = 0\n",
        "for i in flights.columns:\n",
        "  null = flights[f'{i}'].isnull().sum()\n",
        "  na = flights[f'{i}'].isna().sum()\n",
        "  print(f'nr {count} kolumna {i} ma {null} wartości null, {na} wartości nan')\n",
        "  count += 1"
      ]
    },
    {
      "cell_type": "markdown",
      "metadata": {
        "id": "SUEEKVVeAwGR"
      },
      "source": [
        "### SPRAWDZAMY CZY 'DEPARTURE_TIME' I 'DEPARTURE_DELAY' MAJĄ WARTOŚCI NAN W TYCH SAMYCH WIERSZACH, BĘDZIE TO ZNACZYŁO NAJPRAWDOPODOBNIEJ, ŻE SAMOLOT WYLECIAŁ NA CZAS\n"
      ]
    },
    {
      "cell_type": "code",
      "execution_count": null,
      "metadata": {
        "colab": {
          "base_uri": "https://localhost:8080/"
        },
        "id": "SIaQcLPfsIz4",
        "outputId": "e679bf7e-8354-4665-cf00-49110906c01b"
      },
      "outputs": [
        {
          "name": "stdout",
          "output_type": "stream",
          "text": [
            "<class 'pandas.core.frame.DataFrame'>\n",
            "Index: 86153 entries, 32 to 5818843\n",
            "Data columns (total 2 columns):\n",
            " #   Column           Non-Null Count  Dtype  \n",
            "---  ------           --------------  -----  \n",
            " 0   DEPARTURE_TIME   0 non-null      float64\n",
            " 1   DEPARTURE_DELAY  0 non-null      float64\n",
            "dtypes: float64(2)\n",
            "memory usage: 2.0 MB\n"
          ]
        }
      ],
      "source": [
        "flights[flights['DEPARTURE_TIME'].isna() | flights['DEPARTURE_DELAY'].isna()][['DEPARTURE_TIME', 'DEPARTURE_DELAY']].info()"
      ]
    },
    {
      "cell_type": "markdown",
      "metadata": {
        "id": "QiRdgCUTAwGR"
      },
      "source": [
        "### ZMIANA POWODU ODWOŁANIA LOTU NA TYP CATEGORY"
      ]
    },
    {
      "cell_type": "code",
      "execution_count": null,
      "metadata": {
        "id": "DcWXnNf7EyN3"
      },
      "outputs": [],
      "source": [
        "flights['CANCELLATION_REASON'] = flights['CANCELLATION_REASON'].astype('category').cat.codes"
      ]
    },
    {
      "cell_type": "markdown",
      "metadata": {
        "id": "m1HkMOJuAwGS"
      },
      "source": [
        "### UZUPEŁNIANIE 'SPECJALNYCH OPÓŹNIEŃ' ZERAMI OZNACZAJĄCYMI BRAK WYSTĄPIENIA DANEGO OPÓŻNIENIA"
      ]
    },
    {
      "cell_type": "code",
      "execution_count": null,
      "metadata": {
        "id": "H0yDsXcwFdoC"
      },
      "outputs": [],
      "source": [
        "flights['AIR_SYSTEM_DELAY'].fillna(0, inplace=True)\n",
        "flights['SECURITY_DELAY'].fillna(0, inplace=True)\n",
        "flights['AIRLINE_DELAY'].fillna(0, inplace=True)\n",
        "flights['LATE_AIRCRAFT_DELAY'].fillna(0, inplace=True)\n",
        "flights['WEATHER_DELAY'].fillna(0, inplace=True)"
      ]
    },
    {
      "cell_type": "markdown",
      "metadata": {
        "id": "KNERzJTyAwGS"
      },
      "source": [
        "### USUNIĘCIE MNIEJ ISTOTNYCH KOLUMN"
      ]
    },
    {
      "cell_type": "code",
      "execution_count": null,
      "metadata": {
        "id": "odv8uM_ujV3s"
      },
      "outputs": [],
      "source": [
        "#można użyć do uzupełnienia brakujących numerów samolot, użylibyśmy naczęściej występującego numeru dla danej lini lotniczej\n",
        "#flights.groupby('AIRLINE')['TAIL_NUMBER'].value_counts().groupby(level=0).idxmax()"
      ]
    },
    {
      "cell_type": "code",
      "execution_count": null,
      "metadata": {
        "id": "jH_-CnuXGXVd"
      },
      "outputs": [],
      "source": [
        "flights.drop(columns=['TAIL_NUMBER', 'FLIGHT_NUMBER'], inplace=True)"
      ]
    },
    {
      "cell_type": "markdown",
      "metadata": {
        "id": "zl-rQVQXAwGS"
      },
      "source": [
        "### USUNIĘCIE RESZTY OBSERWACJI Z WARTOŚCIMI NAN, TRACIMY MAŁO DANYCH I NIE UZUPEŁNIAMY SZTUCZNYMI WARTOŚCIMI"
      ]
    },
    {
      "cell_type": "code",
      "execution_count": null,
      "metadata": {
        "id": "logmxwBNBB7R"
      },
      "outputs": [],
      "source": [
        "flights = flights.dropna()"
      ]
    },
    {
      "cell_type": "code",
      "execution_count": null,
      "metadata": {
        "colab": {
          "base_uri": "https://localhost:8080/"
        },
        "id": "1iTpBMA2FDeN",
        "outputId": "1269667d-25de-4338-b9c8-83ffacbf7061"
      },
      "outputs": [
        {
          "name": "stdout",
          "output_type": "stream",
          "text": [
            "<class 'pandas.core.frame.DataFrame'>\n",
            "Index: 5714008 entries, 0 to 5819078\n",
            "Data columns (total 29 columns):\n",
            " #   Column               Non-Null Count    Dtype  \n",
            "---  ------               --------------    -----  \n",
            " 0   YEAR                 5714008 non-null  int64  \n",
            " 1   MONTH                5714008 non-null  int64  \n",
            " 2   DAY                  5714008 non-null  int64  \n",
            " 3   DAY_OF_WEEK          5714008 non-null  int64  \n",
            " 4   AIRLINE              5714008 non-null  object \n",
            " 5   ORIGIN_AIRPORT       5714008 non-null  object \n",
            " 6   DESTINATION_AIRPORT  5714008 non-null  object \n",
            " 7   SCHEDULED_DEPARTURE  5714008 non-null  int64  \n",
            " 8   DEPARTURE_TIME       5714008 non-null  float64\n",
            " 9   DEPARTURE_DELAY      5714008 non-null  float64\n",
            " 10  TAXI_OUT             5714008 non-null  float64\n",
            " 11  WHEELS_OFF           5714008 non-null  float64\n",
            " 12  SCHEDULED_TIME       5714008 non-null  float64\n",
            " 13  ELAPSED_TIME         5714008 non-null  float64\n",
            " 14  AIR_TIME             5714008 non-null  float64\n",
            " 15  DISTANCE             5714008 non-null  int64  \n",
            " 16  WHEELS_ON            5714008 non-null  float64\n",
            " 17  TAXI_IN              5714008 non-null  float64\n",
            " 18  SCHEDULED_ARRIVAL    5714008 non-null  int64  \n",
            " 19  ARRIVAL_TIME         5714008 non-null  float64\n",
            " 20  ARRIVAL_DELAY        5714008 non-null  float64\n",
            " 21  DIVERTED             5714008 non-null  int64  \n",
            " 22  CANCELLED            5714008 non-null  int64  \n",
            " 23  CANCELLATION_REASON  5714008 non-null  int8   \n",
            " 24  AIR_SYSTEM_DELAY     5714008 non-null  float64\n",
            " 25  SECURITY_DELAY       5714008 non-null  float64\n",
            " 26  AIRLINE_DELAY        5714008 non-null  float64\n",
            " 27  LATE_AIRCRAFT_DELAY  5714008 non-null  float64\n",
            " 28  WEATHER_DELAY        5714008 non-null  float64\n",
            "dtypes: float64(16), int64(9), int8(1), object(3)\n",
            "memory usage: 1.2+ GB\n"
          ]
        }
      ],
      "source": [
        "flights.info(verbose=True, show_counts=True)"
      ]
    },
    {
      "cell_type": "markdown",
      "metadata": {
        "id": "ljPGNNTMAwGT"
      },
      "source": [
        "### SPRAWDZENIE CZY POZOSTAWIENIE TYPU FLOAT MA SENS, BY PÓŹNIEJ PODJĄĆ SIĘ ZMIANY TYPU"
      ]
    },
    {
      "cell_type": "code",
      "execution_count": null,
      "metadata": {
        "id": "NugiSRDcIzNZ"
      },
      "outputs": [],
      "source": [
        "#bierzemy kolumny z wartościami numerycznymi\n",
        "num_type_columns = ['YEAR', 'MONTH', 'DAY', 'DAY_OF_WEEK',\n",
        "       'SCHEDULED_DEPARTURE', 'DEPARTURE_TIME', 'DEPARTURE_DELAY', 'TAXI_OUT',\n",
        "       'WHEELS_OFF', 'SCHEDULED_TIME', 'ELAPSED_TIME', 'AIR_TIME', 'DISTANCE',\n",
        "       'WHEELS_ON', 'TAXI_IN', 'SCHEDULED_ARRIVAL', 'ARRIVAL_TIME',\n",
        "       'ARRIVAL_DELAY', 'DIVERTED', 'CANCELLED', 'CANCELLATION_REASON',\n",
        "       'AIR_SYSTEM_DELAY', 'SECURITY_DELAY', 'AIRLINE_DELAY',\n",
        "       'LATE_AIRCRAFT_DELAY', 'WEATHER_DELAY']"
      ]
    },
    {
      "cell_type": "code",
      "execution_count": null,
      "metadata": {
        "id": "-OiySv45H-Vt"
      },
      "outputs": [],
      "source": [
        "#funkcja sprawdzająca, czy w danej kolumnie występują liczby mające po przecinku cyfrę inną niż 0 \n",
        "def float_check(name):\n",
        "  arr = flights[name].unique()\n",
        "  check = np.any(arr % 1 != 0)\n",
        "  return print(check)"
      ]
    },
    {
      "cell_type": "code",
      "execution_count": null,
      "metadata": {
        "colab": {
          "base_uri": "https://localhost:8080/"
        },
        "id": "4MWv2OpYHoAi",
        "outputId": "0588f205-f54b-4003-f1d5-27c7bdd4e5cc"
      },
      "outputs": [
        {
          "name": "stdout",
          "output_type": "stream",
          "text": [
            "False\n",
            "False\n",
            "False\n",
            "False\n",
            "False\n",
            "False\n",
            "False\n",
            "False\n",
            "False\n",
            "False\n",
            "False\n",
            "False\n",
            "False\n",
            "False\n",
            "False\n",
            "False\n",
            "False\n",
            "False\n",
            "False\n",
            "False\n",
            "False\n",
            "False\n",
            "False\n",
            "False\n",
            "False\n",
            "False\n"
          ]
        }
      ],
      "source": [
        "#sprawdzamy dla każdej kolumny z wartościami numerycznymi\n",
        "for i in num_type_columns:\n",
        "  float_check(i)"
      ]
    },
    {
      "cell_type": "markdown",
      "metadata": {
        "id": "U79dtnfJAwGT"
      },
      "source": [
        "### ZMIANA TYPU WARTOŚCI W KOLUMNACH ZAWIERAJĄCYCH GODZINĘ W POSTACI 345 = 03:45, BY ŁATWIEJ BYŁO JE PRZETWARZAĆ I WYEKSTRAKTOWAĆ OSOBNO GODZINY I MINUTY"
      ]
    },
    {
      "cell_type": "code",
      "execution_count": null,
      "metadata": {
        "id": "ZB435zg0qq1k"
      },
      "outputs": [],
      "source": [
        "flights['DEPARTURE_TIME'] = flights['DEPARTURE_TIME'].astype(int)\n",
        "flights['WHEELS_OFF'] = flights['WHEELS_OFF'].astype(int)\n",
        "flights['WHEELS_ON'] = flights['WHEELS_ON'].astype(int)\n",
        "flights['ARRIVAL_TIME'] = flights['ARRIVAL_TIME'].astype(int)"
      ]
    },
    {
      "cell_type": "code",
      "execution_count": null,
      "metadata": {
        "id": "ZAtsSUyqHwKl"
      },
      "outputs": [],
      "source": [
        "#dane czasowe - SCHEDULED_DEPARTURE, DEPARTURE_TIME, WHEELS_OFF, WHEELS_ON, SCHEDULED_ARRIVAL, ARRIVAL_TIME\n",
        "#podział na dwie kolumny w godziną i minutą\n",
        "type_time = ['SCHEDULED_DEPARTURE', 'DEPARTURE_TIME', 'WHEELS_OFF', 'WHEELS_ON', 'SCHEDULED_ARRIVAL', 'ARRIVAL_TIME']\n",
        "counter = 0\n",
        "for i in type_time:\n",
        "  flights[f'{i}'] = flights[f'{i}'].astype(str).str.zfill(4)"
      ]
    },
    {
      "cell_type": "code",
      "execution_count": null,
      "metadata": {
        "id": "jRs98NlHtupy"
      },
      "outputs": [],
      "source": [
        "for i in type_time:\n",
        "  flights[f'{i}_HOUR'] = flights[f'{i}'].str[:2]\n",
        "  flights[f'{i}_MINUTE'] = flights[f'{i}'].str[2:]"
      ]
    },
    {
      "cell_type": "code",
      "execution_count": null,
      "metadata": {
        "colab": {
          "base_uri": "https://localhost:8080/"
        },
        "id": "yZBThJBbo61f",
        "outputId": "76c4c55d-a23e-4d87-92cd-b28c88648c78"
      },
      "outputs": [
        {
          "name": "stdout",
          "output_type": "stream",
          "text": [
            "<class 'pandas.core.frame.DataFrame'>\n",
            "Index: 5714008 entries, 0 to 5819078\n",
            "Data columns (total 41 columns):\n",
            " #   Column                      Non-Null Count    Dtype  \n",
            "---  ------                      --------------    -----  \n",
            " 0   YEAR                        5714008 non-null  int64  \n",
            " 1   MONTH                       5714008 non-null  int64  \n",
            " 2   DAY                         5714008 non-null  int64  \n",
            " 3   DAY_OF_WEEK                 5714008 non-null  int64  \n",
            " 4   AIRLINE                     5714008 non-null  object \n",
            " 5   ORIGIN_AIRPORT              5714008 non-null  object \n",
            " 6   DESTINATION_AIRPORT         5714008 non-null  object \n",
            " 7   SCHEDULED_DEPARTURE         5714008 non-null  object \n",
            " 8   DEPARTURE_TIME              5714008 non-null  object \n",
            " 9   DEPARTURE_DELAY             5714008 non-null  float64\n",
            " 10  TAXI_OUT                    5714008 non-null  float64\n",
            " 11  WHEELS_OFF                  5714008 non-null  object \n",
            " 12  SCHEDULED_TIME              5714008 non-null  float64\n",
            " 13  ELAPSED_TIME                5714008 non-null  float64\n",
            " 14  AIR_TIME                    5714008 non-null  float64\n",
            " 15  DISTANCE                    5714008 non-null  int64  \n",
            " 16  WHEELS_ON                   5714008 non-null  object \n",
            " 17  TAXI_IN                     5714008 non-null  float64\n",
            " 18  SCHEDULED_ARRIVAL           5714008 non-null  object \n",
            " 19  ARRIVAL_TIME                5714008 non-null  object \n",
            " 20  ARRIVAL_DELAY               5714008 non-null  float64\n",
            " 21  DIVERTED                    5714008 non-null  int64  \n",
            " 22  CANCELLED                   5714008 non-null  int64  \n",
            " 23  CANCELLATION_REASON         5714008 non-null  int8   \n",
            " 24  AIR_SYSTEM_DELAY            5714008 non-null  float64\n",
            " 25  SECURITY_DELAY              5714008 non-null  float64\n",
            " 26  AIRLINE_DELAY               5714008 non-null  float64\n",
            " 27  LATE_AIRCRAFT_DELAY         5714008 non-null  float64\n",
            " 28  WEATHER_DELAY               5714008 non-null  float64\n",
            " 29  SCHEDULED_DEPARTURE_HOUR    5714008 non-null  object \n",
            " 30  SCHEDULED_DEPARTURE_MINUTE  5714008 non-null  object \n",
            " 31  DEPARTURE_TIME_HOUR         5714008 non-null  object \n",
            " 32  DEPARTURE_TIME_MINUTE       5714008 non-null  object \n",
            " 33  WHEELS_OFF_HOUR             5714008 non-null  object \n",
            " 34  WHEELS_OFF_MINUTE           5714008 non-null  object \n",
            " 35  WHEELS_ON_HOUR              5714008 non-null  object \n",
            " 36  WHEELS_ON_MINUTE            5714008 non-null  object \n",
            " 37  SCHEDULED_ARRIVAL_HOUR      5714008 non-null  object \n",
            " 38  SCHEDULED_ARRIVAL_MINUTE    5714008 non-null  object \n",
            " 39  ARRIVAL_TIME_HOUR           5714008 non-null  object \n",
            " 40  ARRIVAL_TIME_MINUTE         5714008 non-null  object \n",
            "dtypes: float64(12), int64(7), int8(1), object(21)\n",
            "memory usage: 1.8+ GB\n"
          ]
        }
      ],
      "source": [
        "flights.info(verbose=True, show_counts=True)"
      ]
    },
    {
      "cell_type": "code",
      "execution_count": null,
      "metadata": {
        "colab": {
          "base_uri": "https://localhost:8080/",
          "height": 299
        },
        "id": "p3gslJYfDtuY",
        "outputId": "fa250293-426f-45ec-a5d4-6c30b685f6b8"
      },
      "outputs": [
        {
          "data": {
            "text/html": [
              "<div>\n",
              "<style scoped>\n",
              "    .dataframe tbody tr th:only-of-type {\n",
              "        vertical-align: middle;\n",
              "    }\n",
              "\n",
              "    .dataframe tbody tr th {\n",
              "        vertical-align: top;\n",
              "    }\n",
              "\n",
              "    .dataframe thead th {\n",
              "        text-align: right;\n",
              "    }\n",
              "</style>\n",
              "<table border=\"1\" class=\"dataframe\">\n",
              "  <thead>\n",
              "    <tr style=\"text-align: right;\">\n",
              "      <th></th>\n",
              "      <th>YEAR</th>\n",
              "      <th>MONTH</th>\n",
              "      <th>DAY</th>\n",
              "      <th>DAY_OF_WEEK</th>\n",
              "      <th>AIRLINE</th>\n",
              "      <th>ORIGIN_AIRPORT</th>\n",
              "      <th>DESTINATION_AIRPORT</th>\n",
              "      <th>SCHEDULED_DEPARTURE</th>\n",
              "      <th>DEPARTURE_TIME</th>\n",
              "      <th>DEPARTURE_DELAY</th>\n",
              "      <th>...</th>\n",
              "      <th>DEPARTURE_TIME_HOUR</th>\n",
              "      <th>DEPARTURE_TIME_MINUTE</th>\n",
              "      <th>WHEELS_OFF_HOUR</th>\n",
              "      <th>WHEELS_OFF_MINUTE</th>\n",
              "      <th>WHEELS_ON_HOUR</th>\n",
              "      <th>WHEELS_ON_MINUTE</th>\n",
              "      <th>SCHEDULED_ARRIVAL_HOUR</th>\n",
              "      <th>SCHEDULED_ARRIVAL_MINUTE</th>\n",
              "      <th>ARRIVAL_TIME_HOUR</th>\n",
              "      <th>ARRIVAL_TIME_MINUTE</th>\n",
              "    </tr>\n",
              "  </thead>\n",
              "  <tbody>\n",
              "    <tr>\n",
              "      <th>0</th>\n",
              "      <td>2015</td>\n",
              "      <td>1</td>\n",
              "      <td>1</td>\n",
              "      <td>4</td>\n",
              "      <td>AS</td>\n",
              "      <td>ANC</td>\n",
              "      <td>SEA</td>\n",
              "      <td>0005</td>\n",
              "      <td>2354</td>\n",
              "      <td>-11.0</td>\n",
              "      <td>...</td>\n",
              "      <td>23</td>\n",
              "      <td>54</td>\n",
              "      <td>00</td>\n",
              "      <td>15</td>\n",
              "      <td>04</td>\n",
              "      <td>04</td>\n",
              "      <td>04</td>\n",
              "      <td>30</td>\n",
              "      <td>04</td>\n",
              "      <td>08</td>\n",
              "    </tr>\n",
              "    <tr>\n",
              "      <th>1</th>\n",
              "      <td>2015</td>\n",
              "      <td>1</td>\n",
              "      <td>1</td>\n",
              "      <td>4</td>\n",
              "      <td>AA</td>\n",
              "      <td>LAX</td>\n",
              "      <td>PBI</td>\n",
              "      <td>0010</td>\n",
              "      <td>0002</td>\n",
              "      <td>-8.0</td>\n",
              "      <td>...</td>\n",
              "      <td>00</td>\n",
              "      <td>02</td>\n",
              "      <td>00</td>\n",
              "      <td>14</td>\n",
              "      <td>07</td>\n",
              "      <td>37</td>\n",
              "      <td>07</td>\n",
              "      <td>50</td>\n",
              "      <td>07</td>\n",
              "      <td>41</td>\n",
              "    </tr>\n",
              "    <tr>\n",
              "      <th>2</th>\n",
              "      <td>2015</td>\n",
              "      <td>1</td>\n",
              "      <td>1</td>\n",
              "      <td>4</td>\n",
              "      <td>US</td>\n",
              "      <td>SFO</td>\n",
              "      <td>CLT</td>\n",
              "      <td>0020</td>\n",
              "      <td>0018</td>\n",
              "      <td>-2.0</td>\n",
              "      <td>...</td>\n",
              "      <td>00</td>\n",
              "      <td>18</td>\n",
              "      <td>00</td>\n",
              "      <td>34</td>\n",
              "      <td>08</td>\n",
              "      <td>00</td>\n",
              "      <td>08</td>\n",
              "      <td>06</td>\n",
              "      <td>08</td>\n",
              "      <td>11</td>\n",
              "    </tr>\n",
              "    <tr>\n",
              "      <th>3</th>\n",
              "      <td>2015</td>\n",
              "      <td>1</td>\n",
              "      <td>1</td>\n",
              "      <td>4</td>\n",
              "      <td>AA</td>\n",
              "      <td>LAX</td>\n",
              "      <td>MIA</td>\n",
              "      <td>0020</td>\n",
              "      <td>0015</td>\n",
              "      <td>-5.0</td>\n",
              "      <td>...</td>\n",
              "      <td>00</td>\n",
              "      <td>15</td>\n",
              "      <td>00</td>\n",
              "      <td>30</td>\n",
              "      <td>07</td>\n",
              "      <td>48</td>\n",
              "      <td>08</td>\n",
              "      <td>05</td>\n",
              "      <td>07</td>\n",
              "      <td>56</td>\n",
              "    </tr>\n",
              "    <tr>\n",
              "      <th>4</th>\n",
              "      <td>2015</td>\n",
              "      <td>1</td>\n",
              "      <td>1</td>\n",
              "      <td>4</td>\n",
              "      <td>AS</td>\n",
              "      <td>SEA</td>\n",
              "      <td>ANC</td>\n",
              "      <td>0025</td>\n",
              "      <td>0024</td>\n",
              "      <td>-1.0</td>\n",
              "      <td>...</td>\n",
              "      <td>00</td>\n",
              "      <td>24</td>\n",
              "      <td>00</td>\n",
              "      <td>35</td>\n",
              "      <td>02</td>\n",
              "      <td>54</td>\n",
              "      <td>03</td>\n",
              "      <td>20</td>\n",
              "      <td>02</td>\n",
              "      <td>59</td>\n",
              "    </tr>\n",
              "  </tbody>\n",
              "</table>\n",
              "<p>5 rows × 41 columns</p>\n",
              "</div>"
            ],
            "text/plain": [
              "   YEAR  MONTH  DAY  DAY_OF_WEEK AIRLINE ORIGIN_AIRPORT DESTINATION_AIRPORT   \n",
              "0  2015      1    1            4      AS            ANC                 SEA  \\\n",
              "1  2015      1    1            4      AA            LAX                 PBI   \n",
              "2  2015      1    1            4      US            SFO                 CLT   \n",
              "3  2015      1    1            4      AA            LAX                 MIA   \n",
              "4  2015      1    1            4      AS            SEA                 ANC   \n",
              "\n",
              "  SCHEDULED_DEPARTURE DEPARTURE_TIME  DEPARTURE_DELAY  ...   \n",
              "0                0005           2354            -11.0  ...  \\\n",
              "1                0010           0002             -8.0  ...   \n",
              "2                0020           0018             -2.0  ...   \n",
              "3                0020           0015             -5.0  ...   \n",
              "4                0025           0024             -1.0  ...   \n",
              "\n",
              "   DEPARTURE_TIME_HOUR DEPARTURE_TIME_MINUTE  WHEELS_OFF_HOUR   \n",
              "0                   23                    54               00  \\\n",
              "1                   00                    02               00   \n",
              "2                   00                    18               00   \n",
              "3                   00                    15               00   \n",
              "4                   00                    24               00   \n",
              "\n",
              "   WHEELS_OFF_MINUTE  WHEELS_ON_HOUR  WHEELS_ON_MINUTE SCHEDULED_ARRIVAL_HOUR   \n",
              "0                 15              04                04                     04  \\\n",
              "1                 14              07                37                     07   \n",
              "2                 34              08                00                     08   \n",
              "3                 30              07                48                     08   \n",
              "4                 35              02                54                     03   \n",
              "\n",
              "   SCHEDULED_ARRIVAL_MINUTE ARRIVAL_TIME_HOUR ARRIVAL_TIME_MINUTE  \n",
              "0                        30                04                  08  \n",
              "1                        50                07                  41  \n",
              "2                        06                08                  11  \n",
              "3                        05                07                  56  \n",
              "4                        20                02                  59  \n",
              "\n",
              "[5 rows x 41 columns]"
            ]
          },
          "execution_count": 239,
          "metadata": {},
          "output_type": "execute_result"
        }
      ],
      "source": [
        "flights.head()"
      ]
    },
    {
      "cell_type": "markdown",
      "metadata": {
        "id": "hTHpA-PvAwGa"
      },
      "source": [
        "### ZMIANA WARTOŚCI FLOAT NA INT"
      ]
    },
    {
      "cell_type": "code",
      "execution_count": null,
      "metadata": {
        "id": "QsEfl87l0vlW"
      },
      "outputs": [],
      "source": [
        "num_type_columns2 = ['YEAR', 'MONTH', 'DAY', 'DAY_OF_WEEK',\n",
        "       'SCHEDULED_DEPARTURE', 'DEPARTURE_TIME', 'DEPARTURE_DELAY', 'TAXI_OUT',\n",
        "       'WHEELS_OFF', 'SCHEDULED_TIME', 'ELAPSED_TIME', 'AIR_TIME', 'DISTANCE',\n",
        "       'WHEELS_ON', 'TAXI_IN', 'SCHEDULED_ARRIVAL', 'ARRIVAL_TIME',\n",
        "       'ARRIVAL_DELAY', 'DIVERTED', 'CANCELLED', 'CANCELLATION_REASON',\n",
        "       'AIR_SYSTEM_DELAY', 'SECURITY_DELAY', 'AIRLINE_DELAY',\n",
        "       'LATE_AIRCRAFT_DELAY', 'WEATHER_DELAY', 'SCHEDULED_DEPARTURE_HOUR',\n",
        "       'SCHEDULED_DEPARTURE_MINUTE', 'DEPARTURE_TIME_HOUR',\n",
        "       'DEPARTURE_TIME_MINUTE', 'WHEELS_OFF_HOUR', 'WHEELS_OFF_MINUTE',\n",
        "       'WHEELS_ON_HOUR', 'WHEELS_ON_MINUTE', 'SCHEDULED_ARRIVAL_HOUR',\n",
        "       'SCHEDULED_ARRIVAL_MINUTE', 'ARRIVAL_TIME_HOUR', 'ARRIVAL_TIME_MINUTE']"
      ]
    },
    {
      "cell_type": "code",
      "execution_count": null,
      "metadata": {
        "id": "kzCqo4LaHJlS"
      },
      "outputs": [],
      "source": [
        "#funkcja zmieniająca typ wartości na inta \n",
        "def type_int(name):\n",
        "  flights[name] = flights[name].astype(int)"
      ]
    },
    {
      "cell_type": "code",
      "execution_count": null,
      "metadata": {
        "id": "eG1q1nltHSmB"
      },
      "outputs": [],
      "source": [
        "#sprawdzamy dla każdej kolumny z wartościami numerycznymi\n",
        "for i in num_type_columns2:\n",
        "   type_int(i)"
      ]
    },
    {
      "cell_type": "markdown",
      "metadata": {
        "id": "KJKzzasUAwGb"
      },
      "source": [
        "### WYKRESY"
      ]
    },
    {
      "cell_type": "code",
      "execution_count": null,
      "metadata": {
        "id": "8g_oklxkAwGb",
        "outputId": "43a4f4b7-dcfe-4cec-c48d-dc4dcbf1233c"
      },
      "outputs": [
        {
          "data": {
            "image/png": "[encoded data removed]",
            "text/plain": [
              "<Figure size 640x480 with 1 Axes>"
            ]
          },
          "metadata": {},
          "output_type": "display_data"
        }
      ],
      "source": [
        "g=sns.countplot(x='AIRLINE', data=flights)\n",
        "g.xaxis.set_tick_params(rotation=90)"
      ]
    },
    {
      "cell_type": "code",
      "execution_count": null,
      "metadata": {
        "id": "CyAlxG4MAwGb",
        "outputId": "d2ca65e7-7f11-4dd4-ceef-b7ef7cc74c98"
      },
      "outputs": [
        {
          "data": {
            "image/png": "[encoded data removed]",
            "text/plain": [
              "<Figure size 640x480 with 1 Axes>"
            ]
          },
          "metadata": {},
          "output_type": "display_data"
        }
      ],
      "source": [
        "g=sns.countplot(x='MONTH', data=flights)\n",
        "g.xaxis.set_tick_params(rotation=90)"
      ]
    },
    {
      "cell_type": "code",
      "execution_count": null,
      "metadata": {
        "id": "1cPmvg96AwGb",
        "outputId": "bcd19102-70c7-4929-80fc-9c42fa7aa457"
      },
      "outputs": [
        {
          "data": {
            "image/png": "[encoded data removed]",
            "text/plain": [
              "<Figure size 640x480 with 1 Axes>"
            ]
          },
          "metadata": {},
          "output_type": "display_data"
        }
      ],
      "source": [
        "g=sns.countplot(x='DAY', data=flights)\n",
        "g.xaxis.set_tick_params(rotation=90)"
      ]
    },
    {
      "cell_type": "code",
      "execution_count": null,
      "metadata": {
        "id": "hltcCMwBAwGb",
        "outputId": "2198e446-c8a8-43cd-b425-110af46dc3b7"
      },
      "outputs": [
        {
          "data": {
            "image/png": "[encoded data removed]",
            "text/plain": [
              "<Figure size 640x480 with 1 Axes>"
            ]
          },
          "metadata": {},
          "output_type": "display_data"
        }
      ],
      "source": [
        "g=sns.countplot(x='DAY_OF_WEEK', data=flights)\n",
        "g.xaxis.set_tick_params(rotation=90)"
      ]
    },
    {
      "cell_type": "code",
      "execution_count": null,
      "metadata": {
        "id": "8ePkatMJAwGc",
        "outputId": "de44f548-a2fe-49d8-8d48-ab2e02b1ad72"
      },
      "outputs": [
        {
          "data": {
            "image/png": "[encoded data removed]",
            "text/plain": [
              "<Figure size 640x480 with 1 Axes>"
            ]
          },
          "metadata": {},
          "output_type": "display_data"
        }
      ],
      "source": [
        "g=sns.countplot(x='SCHEDULED_DEPARTURE_HOUR', data=flights)\n",
        "g.xaxis.set_tick_params(rotation=90)"
      ]
    },
    {
      "cell_type": "code",
      "execution_count": null,
      "metadata": {
        "id": "tdcwYnzcAwGc",
        "outputId": "1651cdb7-6ae7-45a5-a927-6063a18ba1df"
      },
      "outputs": [
        {
          "data": {
            "image/png": "[encoded data removed]",
            "text/plain": [
              "<Figure size 640x480 with 1 Axes>"
            ]
          },
          "metadata": {},
          "output_type": "display_data"
        }
      ],
      "source": [
        "g=sns.countplot(x='SCHEDULED_ARRIVAL_HOUR', data=flights)\n",
        "g.xaxis.set_tick_params(rotation=90)"
      ]
    },
    {
      "cell_type": "code",
      "execution_count": null,
      "metadata": {
        "id": "-E53CV7pAwGc",
        "outputId": "2cc130ec-3e64-4927-918f-1692df44fec4"
      },
      "outputs": [
        {
          "data": {
            "text/plain": [
              "([<matplotlib.axis.XTick at 0x26899947700>,\n",
              "  <matplotlib.axis.XTick at 0x268999476d0>,\n",
              "  <matplotlib.axis.XTick at 0x268999472e0>,\n",
              "  <matplotlib.axis.XTick at 0x26a460df040>,\n",
              "  <matplotlib.axis.XTick at 0x26a460df820>,\n",
              "  <matplotlib.axis.XTick at 0x26a460fc310>,\n",
              "  <matplotlib.axis.XTick at 0x26a460fcdc0>,\n",
              "  <matplotlib.axis.XTick at 0x26a460fd870>],\n",
              " [Text(0, 0, '7'),\n",
              "  Text(50, 0, '57'),\n",
              "  Text(100, 0, '107'),\n",
              "  Text(150, 0, '157'),\n",
              "  Text(200, 0, '207'),\n",
              "  Text(250, 0, '257'),\n",
              "  Text(300, 0, '307'),\n",
              "  Text(350, 0, '357')])"
            ]
          },
          "execution_count": 266,
          "metadata": {},
          "output_type": "execute_result"
        },
        {
          "data": {
            "image/png": "[encoded data removed]",
            "text/plain": [
              "<Figure size 640x480 with 1 Axes>"
            ]
          },
          "metadata": {},
          "output_type": "display_data"
        }
      ],
      "source": [
        "g=sns.countplot(x='AIR_TIME', data=flights)\n",
        "g.xaxis.set_tick_params(rotation=90)\n",
        "plt.xticks([0, 50, 100, 150, 200, 250, 300, 350])"
      ]
    },
    {
      "cell_type": "code",
      "execution_count": null,
      "metadata": {
        "id": "bkiOBf51AwGc",
        "outputId": "76693bbc-11eb-4905-fb36-c5ddd9f58d0a"
      },
      "outputs": [
        {
          "data": {
            "text/plain": [
              "([<matplotlib.axis.XTick at 0x267c9224c40>,\n",
              "  <matplotlib.axis.XTick at 0x267c9224e20>,\n",
              "  <matplotlib.axis.XTick at 0x26c01bb22c0>,\n",
              "  <matplotlib.axis.XTick at 0x26b0a7c36a0>,\n",
              "  <matplotlib.axis.XTick at 0x26f358b4250>,\n",
              "  <matplotlib.axis.XTick at 0x26f358b5420>,\n",
              "  <matplotlib.axis.XTick at 0x26f358b6530>,\n",
              "  <matplotlib.axis.XTick at 0x26f358b7460>,\n",
              "  <matplotlib.axis.XTick at 0x26f358b6830>,\n",
              "  <matplotlib.axis.XTick at 0x26f358b6f20>],\n",
              " [Text(0, 0, '7'),\n",
              "  Text(500, 0, '507'),\n",
              "  Text(1000, 0, ''),\n",
              "  Text(1500, 0, ''),\n",
              "  Text(2000, 0, ''),\n",
              "  Text(2500, 0, ''),\n",
              "  Text(3000, 0, ''),\n",
              "  Text(3500, 0, ''),\n",
              "  Text(4000, 0, ''),\n",
              "  Text(4500, 0, '')])"
            ]
          },
          "execution_count": 270,
          "metadata": {},
          "output_type": "execute_result"
        },
        {
          "data": {
            "image/png": "[encoded data removed]",
            "text/plain": [
              "<Figure size 640x480 with 1 Axes>"
            ]
          },
          "metadata": {},
          "output_type": "display_data"
        }
      ],
      "source": [
        "g=sns.countplot(x='AIR_TIME', data=flights)\n",
        "g.xaxis.set_tick_params(rotation=90)\n",
        "plt.xticks([0, 500, 1000, 1500, 2000, 2500, 3000, 3500, 4000, 4500])"
      ]
    },
    {
      "cell_type": "markdown",
      "metadata": {
        "id": "e6y5xJ66AwGc"
      },
      "source": [
        "### ZMIANA TYPU WARTOŚCI W KOLUMNIE 'AIRLINE' NA TYP CATEGORY"
      ]
    },
    {
      "cell_type": "code",
      "execution_count": null,
      "metadata": {
        "colab": {
          "base_uri": "https://localhost:8080/"
        },
        "id": "9A8UyHk3U-nW",
        "outputId": "d9fb3228-ac09-44f8-b422-f16a80c5c4fa"
      },
      "outputs": [
        {
          "data": {
            "text/plain": [
              "array(['AS', 'AA', 'US', 'DL', 'NK', 'UA', 'HA', 'B6', 'OO', 'EV', 'F9',\n",
              "       'WN', 'MQ', 'VX'], dtype=object)"
            ]
          },
          "execution_count": 177,
          "metadata": {},
          "output_type": "execute_result"
        }
      ],
      "source": [
        "flights['AIRLINE'].unique()"
      ]
    },
    {
      "cell_type": "code",
      "execution_count": null,
      "metadata": {
        "id": "p7KIujiz4eHY"
      },
      "outputs": [],
      "source": [
        "flights['AIRLINE'] = flights['AIRLINE'].astype('category').cat.codes"
      ]
    },
    {
      "cell_type": "markdown",
      "metadata": {
        "id": "yae67L8HAwGd"
      },
      "source": [
        "### USUNIĘCIE KOLUMN 'ORIGIN_AIRPORT' I 'DESTINATION_AIRPORT'"
      ]
    },
    {
      "cell_type": "code",
      "execution_count": null,
      "metadata": {
        "id": "Jx-ntC4l4bZd"
      },
      "outputs": [],
      "source": [
        "flights.drop(columns=['ORIGIN_AIRPORT', 'DESTINATION_AIRPORT'], inplace=True)"
      ]
    },
    {
      "cell_type": "code",
      "execution_count": null,
      "metadata": {
        "colab": {
          "base_uri": "https://localhost:8080/"
        },
        "id": "Rx6mzRIz4ydm",
        "outputId": "a9ca64f9-d088-4199-cba7-30d666b601a8"
      },
      "outputs": [
        {
          "name": "stdout",
          "output_type": "stream",
          "text": [
            "<class 'pandas.core.frame.DataFrame'>\n",
            "Index: 5714008 entries, 0 to 5819078\n",
            "Data columns (total 39 columns):\n",
            " #   Column                      Non-Null Count    Dtype\n",
            "---  ------                      --------------    -----\n",
            " 0   YEAR                        5714008 non-null  int32\n",
            " 1   MONTH                       5714008 non-null  int32\n",
            " 2   DAY                         5714008 non-null  int32\n",
            " 3   DAY_OF_WEEK                 5714008 non-null  int32\n",
            " 4   AIRLINE                     5714008 non-null  int8 \n",
            " 5   SCHEDULED_DEPARTURE         5714008 non-null  int32\n",
            " 6   DEPARTURE_TIME              5714008 non-null  int32\n",
            " 7   DEPARTURE_DELAY             5714008 non-null  int32\n",
            " 8   TAXI_OUT                    5714008 non-null  int32\n",
            " 9   WHEELS_OFF                  5714008 non-null  int32\n",
            " 10  SCHEDULED_TIME              5714008 non-null  int32\n",
            " 11  ELAPSED_TIME                5714008 non-null  int32\n",
            " 12  AIR_TIME                    5714008 non-null  int32\n",
            " 13  DISTANCE                    5714008 non-null  int32\n",
            " 14  WHEELS_ON                   5714008 non-null  int32\n",
            " 15  TAXI_IN                     5714008 non-null  int32\n",
            " 16  SCHEDULED_ARRIVAL           5714008 non-null  int32\n",
            " 17  ARRIVAL_TIME                5714008 non-null  int32\n",
            " 18  ARRIVAL_DELAY               5714008 non-null  int32\n",
            " 19  DIVERTED                    5714008 non-null  int32\n",
            " 20  CANCELLED                   5714008 non-null  int32\n",
            " 21  CANCELLATION_REASON         5714008 non-null  int32\n",
            " 22  AIR_SYSTEM_DELAY            5714008 non-null  int32\n",
            " 23  SECURITY_DELAY              5714008 non-null  int32\n",
            " 24  AIRLINE_DELAY               5714008 non-null  int32\n",
            " 25  LATE_AIRCRAFT_DELAY         5714008 non-null  int32\n",
            " 26  WEATHER_DELAY               5714008 non-null  int32\n",
            " 27  SCHEDULED_DEPARTURE_HOUR    5714008 non-null  int32\n",
            " 28  SCHEDULED_DEPARTURE_MINUTE  5714008 non-null  int32\n",
            " 29  DEPARTURE_TIME_HOUR         5714008 non-null  int32\n",
            " 30  DEPARTURE_TIME_MINUTE       5714008 non-null  int32\n",
            " 31  WHEELS_OFF_HOUR             5714008 non-null  int32\n",
            " 32  WHEELS_OFF_MINUTE           5714008 non-null  int32\n",
            " 33  WHEELS_ON_HOUR              5714008 non-null  int32\n",
            " 34  WHEELS_ON_MINUTE            5714008 non-null  int32\n",
            " 35  SCHEDULED_ARRIVAL_HOUR      5714008 non-null  int32\n",
            " 36  SCHEDULED_ARRIVAL_MINUTE    5714008 non-null  int32\n",
            " 37  ARRIVAL_TIME_HOUR           5714008 non-null  int32\n",
            " 38  ARRIVAL_TIME_MINUTE         5714008 non-null  int32\n",
            "dtypes: int32(38), int8(1)\n",
            "memory usage: 877.3 MB\n"
          ]
        }
      ],
      "source": [
        "flights.info(verbose=True, show_counts=True)"
      ]
    },
    {
      "cell_type": "markdown",
      "metadata": {
        "id": "A0oYsInkAwGd"
      },
      "source": [
        "### STWORZENIE KOLUMNY Z BINARNYM TARGETEM - OPÓŹNIENIE SAMOLOTU TAK(OPÓŹNIONY): 1, NIE: 0"
      ]
    },
    {
      "cell_type": "code",
      "execution_count": null,
      "metadata": {
        "id": "ptjqc8bl8A4u"
      },
      "outputs": [],
      "source": [
        "flights['DELAY'] = flights['ARRIVAL_DELAY'].apply(lambda x: 0 if x <= 0 else 1)"
      ]
    },
    {
      "cell_type": "code",
      "execution_count": null,
      "metadata": {
        "id": "My_JDPUUAwGd"
      },
      "outputs": [],
      "source": [
        "### SPRAWDZENIE ZBALANSOWANIE TARGETU"
      ]
    },
    {
      "cell_type": "code",
      "execution_count": null,
      "metadata": {
        "id": "NUxvimopAwGd",
        "outputId": "92a302c5-1a45-4cd8-9405-3df7dbd8a257"
      },
      "outputs": [
        {
          "data": {
            "text/plain": [
              "DELAY\n",
              "0    3627112\n",
              "1    2086896\n",
              "Name: count, dtype: int64"
            ]
          },
          "execution_count": 182,
          "metadata": {},
          "output_type": "execute_result"
        }
      ],
      "source": [
        "flights['DELAY'].value_counts()"
      ]
    },
    {
      "cell_type": "code",
      "execution_count": null,
      "metadata": {
        "id": "qfRBr0T-AwGe",
        "outputId": "34c75cb1-400d-4ea9-c8b6-6056bb4bc92b"
      },
      "outputs": [
        {
          "data": {
            "text/plain": [
              "Index(['YEAR', 'MONTH', 'DAY', 'DAY_OF_WEEK', 'AIRLINE', 'SCHEDULED_DEPARTURE',\n",
              "       'DEPARTURE_TIME', 'DEPARTURE_DELAY', 'TAXI_OUT', 'WHEELS_OFF',\n",
              "       'SCHEDULED_TIME', 'ELAPSED_TIME', 'AIR_TIME', 'DISTANCE', 'WHEELS_ON',\n",
              "       'TAXI_IN', 'SCHEDULED_ARRIVAL', 'ARRIVAL_TIME', 'ARRIVAL_DELAY',\n",
              "       'DIVERTED', 'CANCELLED', 'CANCELLATION_REASON', 'AIR_SYSTEM_DELAY',\n",
              "       'SECURITY_DELAY', 'AIRLINE_DELAY', 'LATE_AIRCRAFT_DELAY',\n",
              "       'WEATHER_DELAY', 'SCHEDULED_DEPARTURE_HOUR',\n",
              "       'SCHEDULED_DEPARTURE_MINUTE', 'DEPARTURE_TIME_HOUR',\n",
              "       'DEPARTURE_TIME_MINUTE', 'WHEELS_OFF_HOUR', 'WHEELS_OFF_MINUTE',\n",
              "       'WHEELS_ON_HOUR', 'WHEELS_ON_MINUTE', 'SCHEDULED_ARRIVAL_HOUR',\n",
              "       'SCHEDULED_ARRIVAL_MINUTE', 'ARRIVAL_TIME_HOUR', 'ARRIVAL_TIME_MINUTE',\n",
              "       'DELAY'],\n",
              "      dtype='object')"
            ]
          },
          "execution_count": 183,
          "metadata": {},
          "output_type": "execute_result"
        }
      ],
      "source": [
        "flights.columns"
      ]
    },
    {
      "cell_type": "markdown",
      "metadata": {
        "id": "oc9i53sQAwGe"
      },
      "source": [
        "### INICJALIZACJA DANYCH DO MODELU PREDYKCYJNEGO"
      ]
    },
    {
      "cell_type": "code",
      "execution_count": null,
      "metadata": {
        "id": "MmX4Bt2Z5UK0"
      },
      "outputs": [],
      "source": [
        "X = flights[['YEAR', 'MONTH', 'DAY', 'DAY_OF_WEEK', 'AIRLINE', 'SCHEDULED_DEPARTURE',\n",
        "       'DEPARTURE_TIME', 'DEPARTURE_DELAY', 'TAXI_OUT', 'WHEELS_OFF',\n",
        "       'SCHEDULED_TIME', 'ELAPSED_TIME', 'AIR_TIME', 'DISTANCE', 'WHEELS_ON',\n",
        "       'TAXI_IN', 'SCHEDULED_ARRIVAL', 'ARRIVAL_TIME', 'ARRIVAL_DELAY',\n",
        "       'DIVERTED', 'CANCELLED', 'CANCELLATION_REASON', 'AIR_SYSTEM_DELAY',\n",
        "       'SECURITY_DELAY', 'AIRLINE_DELAY', 'LATE_AIRCRAFT_DELAY',\n",
        "       'WEATHER_DELAY', 'SCHEDULED_DEPARTURE_HOUR',\n",
        "       'SCHEDULED_DEPARTURE_MINUTE', 'DEPARTURE_TIME_HOUR',\n",
        "       'DEPARTURE_TIME_MINUTE', 'WHEELS_OFF_HOUR', 'WHEELS_OFF_MINUTE',\n",
        "       'WHEELS_ON_HOUR', 'WHEELS_ON_MINUTE', 'SCHEDULED_ARRIVAL_HOUR',\n",
        "       'SCHEDULED_ARRIVAL_MINUTE', 'ARRIVAL_TIME_HOUR', 'ARRIVAL_TIME_MINUTE']]\n",
        "y = flights['DELAY']"
      ]
    },
    {
      "cell_type": "code",
      "execution_count": null,
      "metadata": {
        "id": "YmaEOEa86P7k"
      },
      "outputs": [],
      "source": [
        "X_train, X_test, y_train, y_test = train_test_split(X, y, test_size=0.2, random_state=42)"
      ]
    },
    {
      "cell_type": "markdown",
      "metadata": {
        "id": "gZGjhS6CAwGe"
      },
      "source": [
        "### BALANSOWANIE\n",
        "##### ZE WZGLĘDU NA DUŻY ZBIÓR DANYCH SMOTE ZAJMOWAŁ ZA DUŻO CZASU DLATEGO ZOSTAŁ UŻYTY OVERSAMPLING, KTÓREGO CZAS BYŁ BARDZO OPTYMALNY"
      ]
    },
    {
      "cell_type": "code",
      "execution_count": null,
      "metadata": {
        "id": "jXOxyEHTAwGe"
      },
      "outputs": [],
      "source": [
        "from imblearn.over_sampling import SMOTE\n",
        "from imblearn.over_sampling import RandomOverSampler\n",
        "from collections import Counter"
      ]
    },
    {
      "cell_type": "code",
      "execution_count": null,
      "metadata": {
        "scrolled": true,
        "id": "ZsIYCi1UAwGe"
      },
      "outputs": [],
      "source": [
        "\n",
        "over = RandomOverSampler(random_state=123)\n",
        "X_train, y_train = over.fit_resample(X_train, y_train)"
      ]
    },
    {
      "cell_type": "code",
      "execution_count": null,
      "metadata": {
        "id": "yr-k0FgHAwGe",
        "outputId": "cce7a1a1-4614-4775-c868-7d833b1e2447"
      },
      "outputs": [
        {
          "data": {
            "text/plain": [
              "Counter({1: 2901474, 0: 2901474})"
            ]
          },
          "execution_count": 191,
          "metadata": {},
          "output_type": "execute_result"
        }
      ],
      "source": [
        "Counter(y_train)"
      ]
    },
    {
      "cell_type": "markdown",
      "metadata": {
        "id": "rA6FrSkwjhkH"
      },
      "source": [
        "#### STANDARYZACJA - W POZOSTAŁYCH \n",
        "\n",
        "#### NORMALIZACJA - Z REGUŁY MÓWI SIĘ BY NORMALIZACJĘ STOSOWAĆ W TYCH ALGORYTMACH, KTÓRE NIE PRZYJMÓJĄ ZAŁOŻEŃ NA TEMAT NORMALNOŚCI ROZKŁADU NP. KNN, SIECI NEURONOWE \n",
        "\n",
        "#### BRAK - DRZEWO DECYZYJNE, RANDOM FOREST, FEATURE SCALING NIE JEST WYMAGANY, GDYŻ DECYZJE W TYCH ALGORYTMACH SĄ PODEJMOWANE NA PODSTAWIE REGUŁ PEWNYCH PROGÓW WARTOŚCI, KTÓRE DZIELĄ ZZBIÓR DANYCH NA PODZBIORY, A SKALOWANIE DANYCH NIE WPŁYWA NA TE PODZIAŁY"
      ]
    },
    {
      "cell_type": "markdown",
      "metadata": {
        "id": "lTyFceb_AwGf"
      },
      "source": [
        "### POBIERANIE METRYK DO SPRAWDZENIA JAKOŚCI MODELU"
      ]
    },
    {
      "cell_type": "code",
      "execution_count": null,
      "metadata": {
        "id": "9K2aKT-87lId"
      },
      "outputs": [],
      "source": [
        "from sklearn.metrics import classification_report, confusion_matrix\n",
        "from sklearn.metrics import roc_curve, roc_auc_score"
      ]
    },
    {
      "cell_type": "markdown",
      "metadata": {
        "id": "glPfSZoowwSq"
      },
      "source": [
        "# DRZEWO DECYZYJNE"
      ]
    },
    {
      "cell_type": "code",
      "execution_count": null,
      "metadata": {
        "id": "LPkFMgm67ZBY"
      },
      "outputs": [],
      "source": [
        "from sklearn.tree import DecisionTreeClassifier\n",
        "\n",
        "tree_model = DecisionTreeClassifier()\n",
        "tree_model.fit(X_train, y_train)\n",
        "\n",
        "y_pred_tree_train = tree_model.predict(X_train)\n",
        "y_pred_tree_test = tree_model.predict(X_test)\n",
        "y_prob_tree_train = tree_model.predict_proba(X_train)[:, 1]\n",
        "y_prob_tree_test = tree_model.predict_proba(X_test)[:, 1]"
      ]
    },
    {
      "cell_type": "markdown",
      "metadata": {
        "id": "LUTsiN41AwGf"
      },
      "source": [
        "#### SPRAWDZAMY PODSTAWOWE METRYKI I MACIERZ BŁĘDU"
      ]
    },
    {
      "cell_type": "code",
      "execution_count": null,
      "metadata": {
        "id": "ZqAOUtiuAwGf",
        "outputId": "b7b2ad99-b6ad-45bd-e351-928882d851b4"
      },
      "outputs": [
        {
          "name": "stdout",
          "output_type": "stream",
          "text": [
            "              precision    recall  f1-score   support\n",
            "\n",
            "           0       1.00      1.00      1.00   2901474\n",
            "           1       1.00      1.00      1.00   2901474\n",
            "\n",
            "    accuracy                           1.00   5802948\n",
            "   macro avg       1.00      1.00      1.00   5802948\n",
            "weighted avg       1.00      1.00      1.00   5802948\n",
            "\n"
          ]
        },
        {
          "data": {
            "text/plain": [
              "<Axes: >"
            ]
          },
          "execution_count": 194,
          "metadata": {},
          "output_type": "execute_result"
        },
        {
          "data": {
            "image/png": "[encoded data removed]",
            "text/plain": [
              "<Figure size 600x600 with 2 Axes>"
            ]
          },
          "metadata": {},
          "output_type": "display_data"
        }
      ],
      "source": [
        "print(classification_report(y_train, y_pred_tree_train))\n",
        "\n",
        "cm = confusion_matrix(y_train, y_pred_tree_train)\n",
        "fig, ax = plt.subplots(figsize=(6, 6))\n",
        "sns.heatmap(cm, annot=True, fmt='d')"
      ]
    },
    {
      "cell_type": "code",
      "execution_count": null,
      "metadata": {
        "id": "R2jyUWf4AwGg",
        "outputId": "9d25c34c-3e5e-4dc3-c209-0b8219c206af"
      },
      "outputs": [
        {
          "name": "stdout",
          "output_type": "stream",
          "text": [
            "              precision    recall  f1-score   support\n",
            "\n",
            "           0       1.00      1.00      1.00    725638\n",
            "           1       1.00      1.00      1.00    417164\n",
            "\n",
            "    accuracy                           1.00   1142802\n",
            "   macro avg       1.00      1.00      1.00   1142802\n",
            "weighted avg       1.00      1.00      1.00   1142802\n",
            "\n"
          ]
        },
        {
          "data": {
            "text/plain": [
              "<Axes: >"
            ]
          },
          "execution_count": 195,
          "metadata": {},
          "output_type": "execute_result"
        },
        {
          "data": {
            "image/png": "[encoded data removed]",
            "text/plain": [
              "<Figure size 600x600 with 2 Axes>"
            ]
          },
          "metadata": {},
          "output_type": "display_data"
        }
      ],
      "source": [
        "print(classification_report(y_test, y_pred_tree_test))\n",
        "\n",
        "cm = confusion_matrix(y_test, y_pred_tree_test)\n",
        "fig, ax = plt.subplots(figsize=(6, 6))\n",
        "sns.heatmap(cm, annot=True, fmt='d', ax=ax)"
      ]
    },
    {
      "cell_type": "markdown",
      "metadata": {
        "id": "8MSiAgxkAwGg"
      },
      "source": [
        "#### RYSUJEMY KRZYWĄ ROC POKAZUJĄCĄ JAKOŚĆ KLASYFIKATORA"
      ]
    },
    {
      "cell_type": "code",
      "execution_count": null,
      "metadata": {
        "colab": {
          "base_uri": "https://localhost:8080/",
          "height": 472
        },
        "id": "uMvNYswqqG8a",
        "outputId": "228e7d64-f3ee-48e6-ed41-7cada4e5b933"
      },
      "outputs": [
        {
          "data": {
            "image/png": "[encoded data removed]",
            "text/plain": [
              "<Figure size 640x480 with 1 Axes>"
            ]
          },
          "metadata": {},
          "output_type": "display_data"
        }
      ],
      "source": [
        "fpr_tree_train, tpr_tree_train, thresholds_tree_train = roc_curve(y_train, y_prob_tree_train)\n",
        "fpr_tree_test, tpr_tree_test, thresholds_tree_test = roc_curve(y_test, y_prob_tree_test)\n",
        "\n",
        "# Obliczanie wartości AUC (Area Under the Curve)\n",
        "auc_tree_train = roc_auc_score(y_train, y_prob_tree_train)\n",
        "auc_tree_test = roc_auc_score(y_test, y_prob_tree_test)\n",
        "\n",
        "# Wykres krzywej ROC dla modelu drzewa decyzyjnego\n",
        "plt.figure()\n",
        "plt.plot(fpr_tree_train, tpr_tree_train, label='ROC curve (AUC = %0.2f)' % auc_tree_train)\n",
        "plt.plot(fpr_tree_test, tpr_tree_test, label='ROC curve (AUC = %0.2f)' % auc_tree_test)\n",
        "plt.plot([0, 1], [0, 1], 'k--')  # Linia przerywana dla losowego klasyfikatora\n",
        "plt.xlim([0.0, 1.0])\n",
        "plt.ylim([0.0, 1.05])\n",
        "plt.xlabel('False Positive Rate')\n",
        "plt.ylabel('True Positive Rate')\n",
        "plt.title('ROC - Decision Tree')\n",
        "plt.legend(loc=\"lower right\")\n",
        "plt.show()"
      ]
    },
    {
      "cell_type": "markdown",
      "metadata": {
        "id": "6y6ETeEiwtOs"
      },
      "source": [
        "# LASY LOSOWE"
      ]
    },
    {
      "cell_type": "markdown",
      "metadata": {
        "id": "nzPaTeOgAwGg"
      },
      "source": [
        "##### ZBYT DŁUGI PROCES TRENINGU, ODPUŚCILIŚMY"
      ]
    },
    {
      "cell_type": "code",
      "execution_count": null,
      "metadata": {
        "id": "w053qQI27aoM"
      },
      "outputs": [],
      "source": [
        "from sklearn.ensemble import RandomForestClassifier\n",
        "\n",
        "rand_model = RandomForestClassifier(max_depth=5)\n",
        "rand_model.fit(X_train, y_train)\n",
        "\n",
        "y_pred_rand_train = rand_model.predict(X_train)\n",
        "y_pred_rand_test = rand_model.predict(X_test)\n",
        "y_prob_rand_train = rand_model.predict_proba(X_train)[:, 1]\n",
        "y_prob_rand_test = rand_model.predict_proba(X_test)[:, 1]"
      ]
    },
    {
      "cell_type": "markdown",
      "metadata": {
        "id": "DbO0zDzCAwGg"
      },
      "source": [
        "#### SPRAWDZAMY PODSTAWOWE METRYKI I MACIERZ BŁĘDU"
      ]
    },
    {
      "cell_type": "code",
      "execution_count": null,
      "metadata": {
        "id": "CSjPy7fzAwGg"
      },
      "outputs": [],
      "source": [
        "print(classification_report(y_train, y_pred_rand_train))\n",
        "\n",
        "cm = confusion_matrix(y_train, y_pred_rand_train)\n",
        "fig, ax = plt.subplots(figsize=(6, 6))\n",
        "sns.heatmap(cm, annot=True, fmt='d')"
      ]
    },
    {
      "cell_type": "code",
      "execution_count": null,
      "metadata": {
        "id": "O7emZw1PAwGh"
      },
      "outputs": [],
      "source": [
        "print(classification_report(y_test, y_pred_rand_test))\n",
        "\n",
        "cm = confusion_matrix(y_test, y_pred_rand_test)\n",
        "fig, ax = plt.subplots(figsize=(6, 6))\n",
        "sns.heatmap(cm, annot=True, fmt='d', ax=ax)"
      ]
    },
    {
      "cell_type": "markdown",
      "metadata": {
        "id": "g_800IryAwGh"
      },
      "source": [
        "#### RYSUJEMY KRZYWĄ ROC POKAZUJĄCĄ JAKOŚĆ KLASYFIKATORA"
      ]
    },
    {
      "cell_type": "code",
      "execution_count": null,
      "metadata": {
        "id": "xnsOCQykAwGh"
      },
      "outputs": [],
      "source": [
        "fpr_rand_train, tpr_rand_train, thresholds_rand_train = roc_curve(y_train, y_prob_rand_train)\n",
        "fpr_rand_test, tpr_rand_test, thresholds_rand_test = roc_curve(y_test, y_prob_rand_test)\n",
        "\n",
        "# Obliczanie wartości AUC (Area Under the Curve)\n",
        "auc_rand_train = roc_auc_score(y_train, y_prob_rand_train)\n",
        "auc_rand_test = roc_auc_score(y_test, y_prob_rand_test)\n",
        "\n",
        "# Wykres krzywej ROC dla modelu drzewa decyzyjnego\n",
        "plt.figure()\n",
        "plt.plot(fpr_rand_train, tpr_rand_train, label='ROC curve (AUC = %0.2f)' % auc_rand_train)\n",
        "plt.plot(fpr_rand_test, tpr_rand_test, label='ROC curve (AUC = %0.2f)' % auc_rand_test)\n",
        "plt.plot([0, 1], [0, 1], 'k--')  # Linia przerywana dla losowego klasyfikatora\n",
        "plt.xlim([0.0, 1.0])\n",
        "plt.ylim([0.0, 1.05])\n",
        "plt.xlabel('False Positive Rate')\n",
        "plt.ylabel('True Positive Rate')\n",
        "plt.title('ROC - Random Forest')\n",
        "plt.legend(loc=\"lower right\")\n",
        "plt.show()"
      ]
    },
    {
      "cell_type": "markdown",
      "metadata": {
        "id": "qsnjAee8wqv5"
      },
      "source": [
        "# STANDARYZACJA"
      ]
    },
    {
      "cell_type": "code",
      "execution_count": null,
      "metadata": {
        "id": "tdWEfho5660U"
      },
      "outputs": [],
      "source": [
        "from sklearn.preprocessing import StandardScaler\n",
        "\n",
        "ss_train = StandardScaler()\n",
        "X_train_stand = ss_train.fit_transform(X_train)\n",
        "\n",
        "ss_test = StandardScaler()\n",
        "X_test_stand = ss_test.fit_transform(X_test)"
      ]
    },
    {
      "cell_type": "markdown",
      "metadata": {
        "id": "xKiSFxN5wndS"
      },
      "source": [
        "# REGRESJA LOGISTYCZNA"
      ]
    },
    {
      "cell_type": "code",
      "execution_count": null,
      "metadata": {
        "id": "zVMlxQVc67rk",
        "outputId": "19a8f1f7-7353-4491-9b8e-e37b0da58865"
      },
      "outputs": [
        {
          "name": "stderr",
          "output_type": "stream",
          "text": [
            "C:\\Users\\szymo\\AppData\\Local\\Programs\\Python\\Python310\\lib\\site-packages\\sklearn\\linear_model\\_logistic.py:458: ConvergenceWarning: lbfgs failed to converge (status=1):\n",
            "STOP: TOTAL NO. of ITERATIONS REACHED LIMIT.\n",
            "\n",
            "Increase the number of iterations (max_iter) or scale the data as shown in:\n",
            "    https://scikit-learn.org/stable/modules/preprocessing.html\n",
            "Please also refer to the documentation for alternative solver options:\n",
            "    https://scikit-learn.org/stable/modules/linear_model.html#logistic-regression\n",
            "  n_iter_i = _check_optimize_result(\n",
            "C:\\Users\\szymo\\AppData\\Local\\Programs\\Python\\Python310\\lib\\site-packages\\sklearn\\base.py:432: UserWarning: X has feature names, but LogisticRegression was fitted without feature names\n",
            "  warnings.warn(\n",
            "C:\\Users\\szymo\\AppData\\Local\\Programs\\Python\\Python310\\lib\\site-packages\\sklearn\\base.py:432: UserWarning: X has feature names, but LogisticRegression was fitted without feature names\n",
            "  warnings.warn(\n",
            "C:\\Users\\szymo\\AppData\\Local\\Programs\\Python\\Python310\\lib\\site-packages\\sklearn\\base.py:432: UserWarning: X has feature names, but LogisticRegression was fitted without feature names\n",
            "  warnings.warn(\n",
            "C:\\Users\\szymo\\AppData\\Local\\Programs\\Python\\Python310\\lib\\site-packages\\sklearn\\base.py:432: UserWarning: X has feature names, but LogisticRegression was fitted without feature names\n",
            "  warnings.warn(\n"
          ]
        }
      ],
      "source": [
        "from sklearn.linear_model import LogisticRegression\n",
        "\n",
        "log_model = LogisticRegression()\n",
        "log_model.fit(X_train_stand, y_train)\n",
        "\n",
        "y_pred_log_train = log_model.predict(X_train)\n",
        "y_pred_log_test = log_model.predict(X_test)\n",
        "y_prob_log_train = log_model.predict_proba(X_train)[:, 1]\n",
        "y_prob_log_test = log_model.predict_proba(X_test)[:, 1]"
      ]
    },
    {
      "cell_type": "markdown",
      "metadata": {
        "id": "mjGnIW2lAwGi"
      },
      "source": [
        "#### SPRAWDZAMY PODSTAWOWE METRYKI I MACIERZ BŁĘDU"
      ]
    },
    {
      "cell_type": "code",
      "execution_count": null,
      "metadata": {
        "id": "3mRXsp3WAwGi",
        "outputId": "c8466bde-59aa-4bc1-f6f3-8f5ff3f7fa82"
      },
      "outputs": [
        {
          "name": "stdout",
          "output_type": "stream",
          "text": [
            "              precision    recall  f1-score   support\n",
            "\n",
            "           0       0.81      1.00      0.90   2901474\n",
            "           1       1.00      0.77      0.87   2901474\n",
            "\n",
            "    accuracy                           0.89   5802948\n",
            "   macro avg       0.91      0.89      0.88   5802948\n",
            "weighted avg       0.91      0.89      0.88   5802948\n",
            "\n"
          ]
        },
        {
          "data": {
            "text/plain": [
              "<Axes: >"
            ]
          },
          "execution_count": 199,
          "metadata": {},
          "output_type": "execute_result"
        },
        {
          "data": {
            "image/png": "[encoded data removed]",
            "text/plain": [
              "<Figure size 600x600 with 2 Axes>"
            ]
          },
          "metadata": {},
          "output_type": "display_data"
        }
      ],
      "source": [
        "print(classification_report(y_train, y_pred_log_train))\n",
        "\n",
        "cm = confusion_matrix(y_train, y_pred_log_train)\n",
        "fig, ax = plt.subplots(figsize=(6, 6))\n",
        "sns.heatmap(cm, annot=True, fmt='d')"
      ]
    },
    {
      "cell_type": "code",
      "execution_count": null,
      "metadata": {
        "id": "K54XTCtBAwGi",
        "outputId": "7182ad3c-eebf-43ec-c406-f7d3bc51217e"
      },
      "outputs": [
        {
          "name": "stdout",
          "output_type": "stream",
          "text": [
            "              precision    recall  f1-score   support\n",
            "\n",
            "           0       0.88      1.00      0.94    725638\n",
            "           1       1.00      0.77      0.87    417164\n",
            "\n",
            "    accuracy                           0.92   1142802\n",
            "   macro avg       0.94      0.89      0.90   1142802\n",
            "weighted avg       0.93      0.92      0.91   1142802\n",
            "\n"
          ]
        },
        {
          "data": {
            "text/plain": [
              "<Axes: >"
            ]
          },
          "execution_count": 200,
          "metadata": {},
          "output_type": "execute_result"
        },
        {
          "data": {
            "image/png": "[encoded data removed]",
            "text/plain": [
              "<Figure size 600x600 with 2 Axes>"
            ]
          },
          "metadata": {},
          "output_type": "display_data"
        }
      ],
      "source": [
        "print(classification_report(y_test, y_pred_log_test))\n",
        "\n",
        "cm = confusion_matrix(y_test, y_pred_log_test)\n",
        "fig, ax = plt.subplots(figsize=(6, 6))\n",
        "sns.heatmap(cm, annot=True, fmt='d', ax=ax)"
      ]
    },
    {
      "cell_type": "markdown",
      "metadata": {
        "id": "FIK5UPYoAwGi"
      },
      "source": [
        "#### RYSUJEMY KRZYWĄ ROC POKAZUJĄCĄ JAKOŚĆ KLASYFIKATORA"
      ]
    },
    {
      "cell_type": "code",
      "execution_count": null,
      "metadata": {
        "id": "CZdVra32AwGi",
        "outputId": "36a0c97d-3974-4e14-e261-0cfdaba9b2ca"
      },
      "outputs": [
        {
          "data": {
            "image/png": "[encoded data removed]",
            "text/plain": [
              "<Figure size 640x480 with 1 Axes>"
            ]
          },
          "metadata": {},
          "output_type": "display_data"
        }
      ],
      "source": [
        "fpr_log_train, tpr_log_train, thresholds_log_train = roc_curve(y_train, y_prob_log_train)\n",
        "fpr_log_test, tpr_log_test, thresholds_log_test = roc_curve(y_test, y_prob_log_test)\n",
        "\n",
        "# Obliczanie wartości AUC (Area Under the Curve)\n",
        "auc_log_train = roc_auc_score(y_train, y_prob_log_train)\n",
        "auc_log_test = roc_auc_score(y_test, y_prob_log_test)\n",
        "\n",
        "# Wykres krzywej ROC dla modelu drzewa decyzyjnego\n",
        "plt.figure()\n",
        "plt.plot(fpr_tree_train, tpr_tree_train, label='ROC curve (AUC = %0.2f)' % auc_log_train)\n",
        "plt.plot(fpr_tree_test, tpr_tree_test, label='ROC curve (AUC = %0.2f)' % auc_log_test)\n",
        "plt.plot([0, 1], [0, 1], 'k--')  # Linia przerywana dla losowego klasyfikatora\n",
        "plt.xlim([0.0, 1.0])\n",
        "plt.ylim([0.0, 1.05])\n",
        "plt.xlabel('False Positive Rate')\n",
        "plt.ylabel('True Positive Rate')\n",
        "plt.title('ROC - Logistic Regression')\n",
        "plt.legend(loc=\"lower right\")\n",
        "plt.show()"
      ]
    },
    {
      "cell_type": "markdown",
      "metadata": {
        "id": "YHn40c1_wlos"
      },
      "source": [
        "# SVC"
      ]
    },
    {
      "cell_type": "code",
      "execution_count": null,
      "metadata": {
        "id": "0XwXFFqw7XgF",
        "outputId": "ac59c5e9-3670-4ca5-f3fe-d3ed07eed19c"
      },
      "outputs": [
        {
          "name": "stderr",
          "output_type": "stream",
          "text": [
            "C:\\Users\\szymo\\AppData\\Local\\Programs\\Python\\Python310\\lib\\site-packages\\sklearn\\svm\\_base.py:1244: ConvergenceWarning: Liblinear failed to converge, increase the number of iterations.\n",
            "  warnings.warn(\n",
            "C:\\Users\\szymo\\AppData\\Local\\Programs\\Python\\Python310\\lib\\site-packages\\sklearn\\base.py:432: UserWarning: X has feature names, but LinearSVC was fitted without feature names\n",
            "  warnings.warn(\n",
            "C:\\Users\\szymo\\AppData\\Local\\Programs\\Python\\Python310\\lib\\site-packages\\sklearn\\base.py:432: UserWarning: X has feature names, but LinearSVC was fitted without feature names\n",
            "  warnings.warn(\n"
          ]
        }
      ],
      "source": [
        "from sklearn.svm import LinearSVC\n",
        "\n",
        "svc_model = LinearSVC()\n",
        "svc_model.fit(X_train_stand, y_train)\n",
        "\n",
        "y_pred_svc_train = svc_model.predict(X_train)\n",
        "y_pred_svc_test = svc_model.predict(X_test)"
      ]
    },
    {
      "cell_type": "markdown",
      "metadata": {
        "id": "xRbv6j94AwGj"
      },
      "source": [
        "#### SPRAWDZAMY PODSTAWOWE METRYKI I MACIERZ BŁĘDU"
      ]
    },
    {
      "cell_type": "code",
      "execution_count": null,
      "metadata": {
        "id": "8TBp0yBdAwGj",
        "outputId": "322f303f-8695-4f3b-ae25-99fd09df2599"
      },
      "outputs": [
        {
          "name": "stdout",
          "output_type": "stream",
          "text": [
            "              precision    recall  f1-score   support\n",
            "\n",
            "           0       0.87      1.00      0.93   2901474\n",
            "           1       1.00      0.86      0.92   2901474\n",
            "\n",
            "    accuracy                           0.93   5802948\n",
            "   macro avg       0.94      0.93      0.93   5802948\n",
            "weighted avg       0.94      0.93      0.93   5802948\n",
            "\n"
          ]
        },
        {
          "data": {
            "text/plain": [
              "<Axes: >"
            ]
          },
          "execution_count": 203,
          "metadata": {},
          "output_type": "execute_result"
        },
        {
          "data": {
            "image/png": "[encoded data removed]",
            "text/plain": [
              "<Figure size 600x600 with 2 Axes>"
            ]
          },
          "metadata": {},
          "output_type": "display_data"
        }
      ],
      "source": [
        "print(classification_report(y_train, y_pred_svc_train))\n",
        "\n",
        "cm = confusion_matrix(y_train, y_pred_svc_train)\n",
        "fig, ax = plt.subplots(figsize=(6, 6))\n",
        "sns.heatmap(cm, annot=True, fmt='d')"
      ]
    },
    {
      "cell_type": "code",
      "execution_count": null,
      "metadata": {
        "id": "DbrJg6p0AwGj",
        "outputId": "e5bf1e24-38cf-43c8-afc2-1c832e3b5425"
      },
      "outputs": [
        {
          "name": "stdout",
          "output_type": "stream",
          "text": [
            "              precision    recall  f1-score   support\n",
            "\n",
            "           0       0.92      1.00      0.96    725638\n",
            "           1       1.00      0.86      0.92    417164\n",
            "\n",
            "    accuracy                           0.95   1142802\n",
            "   macro avg       0.96      0.93      0.94   1142802\n",
            "weighted avg       0.95      0.95      0.95   1142802\n",
            "\n"
          ]
        },
        {
          "data": {
            "text/plain": [
              "<Axes: >"
            ]
          },
          "execution_count": 204,
          "metadata": {},
          "output_type": "execute_result"
        },
        {
          "data": {
            "image/png": "[encoded data removed]",
            "text/plain": [
              "<Figure size 600x600 with 2 Axes>"
            ]
          },
          "metadata": {},
          "output_type": "display_data"
        }
      ],
      "source": [
        "print(classification_report(y_test, y_pred_svc_test))\n",
        "\n",
        "cm = confusion_matrix(y_test, y_pred_svc_test)\n",
        "fig, ax = plt.subplots(figsize=(6, 6))\n",
        "sns.heatmap(cm, annot=True, fmt='d', ax=ax)"
      ]
    },
    {
      "cell_type": "markdown",
      "metadata": {
        "id": "XAWZ9YHCAwGj"
      },
      "source": [
        "#### RYSUJEMY KRZYWĄ ROC POKAZUJĄCĄ JAKOŚĆ KLASYFIKATORA"
      ]
    },
    {
      "cell_type": "code",
      "execution_count": null,
      "metadata": {
        "id": "tvVU7QeEAwGj",
        "outputId": "4eaed6d9-55c8-4f9a-afe7-c51430643936"
      },
      "outputs": [
        {
          "data": {
            "image/png": "[encoded data removed]",
            "text/plain": [
              "<Figure size 640x480 with 1 Axes>"
            ]
          },
          "metadata": {},
          "output_type": "display_data"
        }
      ],
      "source": [
        "fpr_svc_train, tpr_svc_train, thresholds_svc_train = roc_curve(y_train, y_pred_svc_train)\n",
        "fpr_svc_test, tpr_svc_test, thresholds_svc_test = roc_curve(y_test, y_pred_svc_test)\n",
        "\n",
        "# Obliczanie wartości AUC (Area Under the Curve)\n",
        "auc_svc_train = roc_auc_score(y_train, y_pred_svc_train)\n",
        "auc_svc_test = roc_auc_score(y_test, y_pred_svc_test)\n",
        "\n",
        "# Wykres krzywej ROC dla modelu drzewa decyzyjnego\n",
        "plt.figure()\n",
        "plt.plot(fpr_svc_train, tpr_svc_train, label='ROC curve (AUC = %0.2f)' % auc_svc_train)\n",
        "plt.plot(fpr_svc_test, tpr_svc_test, label='ROC curve (AUC = %0.2f)' % auc_svc_test)\n",
        "plt.plot([0, 1], [0, 1], 'k--')  # Linia przerywana dla losowego klasyfikatora\n",
        "plt.xlim([0.0, 1.0])\n",
        "plt.ylim([0.0, 1.05])\n",
        "plt.xlabel('False Positive Rate')\n",
        "plt.ylabel('True Positive Rate')\n",
        "plt.title('ROC - Linear SVC')\n",
        "plt.legend(loc=\"lower right\")\n",
        "plt.show()"
      ]
    },
    {
      "cell_type": "markdown",
      "metadata": {
        "id": "yjfRy3dRwi66"
      },
      "source": [
        "# GAUSSIAN NB"
      ]
    },
    {
      "cell_type": "code",
      "execution_count": null,
      "metadata": {
        "id": "AqjAiAV37cB1",
        "outputId": "828065e2-a763-4891-a18a-fe1a69c114bd"
      },
      "outputs": [
        {
          "name": "stderr",
          "output_type": "stream",
          "text": [
            "C:\\Users\\szymo\\AppData\\Local\\Programs\\Python\\Python310\\lib\\site-packages\\sklearn\\base.py:432: UserWarning: X has feature names, but GaussianNB was fitted without feature names\n",
            "  warnings.warn(\n",
            "C:\\Users\\szymo\\AppData\\Local\\Programs\\Python\\Python310\\lib\\site-packages\\sklearn\\base.py:432: UserWarning: X has feature names, but GaussianNB was fitted without feature names\n",
            "  warnings.warn(\n",
            "C:\\Users\\szymo\\AppData\\Local\\Programs\\Python\\Python310\\lib\\site-packages\\sklearn\\base.py:432: UserWarning: X has feature names, but GaussianNB was fitted without feature names\n",
            "  warnings.warn(\n",
            "C:\\Users\\szymo\\AppData\\Local\\Programs\\Python\\Python310\\lib\\site-packages\\sklearn\\base.py:432: UserWarning: X has feature names, but GaussianNB was fitted without feature names\n",
            "  warnings.warn(\n"
          ]
        }
      ],
      "source": [
        "from sklearn.naive_bayes import GaussianNB\n",
        "\n",
        "gnb_model = GaussianNB()\n",
        "gnb_model.fit(X_train_stand, y_train)\n",
        "\n",
        "y_pred_gnb_train = gnb_model.predict(X_train)\n",
        "y_pred_gnb_test = gnb_model.predict(X_test)\n",
        "y_prob_gnb_train = gnb_model.predict_proba(X_train)[:, 1]\n",
        "y_prob_gnb_test = gnb_model.predict_proba(X_test)[:, 1]"
      ]
    },
    {
      "cell_type": "markdown",
      "metadata": {
        "id": "_3MTPRYqAwGk"
      },
      "source": [
        "#### SPRAWDZAMY PODSTAWOWE METRYKI I MACIERZ BŁĘDU"
      ]
    },
    {
      "cell_type": "code",
      "execution_count": null,
      "metadata": {
        "id": "bJQGF51XAwGk",
        "outputId": "13ddb769-8ad7-4eee-f921-c07eb4945782"
      },
      "outputs": [
        {
          "name": "stderr",
          "output_type": "stream",
          "text": [
            "C:\\Users\\szymo\\AppData\\Local\\Programs\\Python\\Python310\\lib\\site-packages\\sklearn\\metrics\\_classification.py:1344: UndefinedMetricWarning: Precision and F-score are ill-defined and being set to 0.0 in labels with no predicted samples. Use `zero_division` parameter to control this behavior.\n",
            "  _warn_prf(average, modifier, msg_start, len(result))\n",
            "C:\\Users\\szymo\\AppData\\Local\\Programs\\Python\\Python310\\lib\\site-packages\\sklearn\\metrics\\_classification.py:1344: UndefinedMetricWarning: Precision and F-score are ill-defined and being set to 0.0 in labels with no predicted samples. Use `zero_division` parameter to control this behavior.\n",
            "  _warn_prf(average, modifier, msg_start, len(result))\n",
            "C:\\Users\\szymo\\AppData\\Local\\Programs\\Python\\Python310\\lib\\site-packages\\sklearn\\metrics\\_classification.py:1344: UndefinedMetricWarning: Precision and F-score are ill-defined and being set to 0.0 in labels with no predicted samples. Use `zero_division` parameter to control this behavior.\n",
            "  _warn_prf(average, modifier, msg_start, len(result))\n"
          ]
        },
        {
          "name": "stdout",
          "output_type": "stream",
          "text": [
            "              precision    recall  f1-score   support\n",
            "\n",
            "           0       0.00      0.00      0.00   2901474\n",
            "           1       0.50      1.00      0.67   2901474\n",
            "\n",
            "    accuracy                           0.50   5802948\n",
            "   macro avg       0.25      0.50      0.33   5802948\n",
            "weighted avg       0.25      0.50      0.33   5802948\n",
            "\n"
          ]
        },
        {
          "data": {
            "text/plain": [
              "<Axes: >"
            ]
          },
          "execution_count": 207,
          "metadata": {},
          "output_type": "execute_result"
        },
        {
          "data": {
            "image/png": "[encoded data removed]",
            "text/plain": [
              "<Figure size 600x600 with 2 Axes>"
            ]
          },
          "metadata": {},
          "output_type": "display_data"
        }
      ],
      "source": [
        "print(classification_report(y_train, y_pred_gnb_train))\n",
        "\n",
        "cm = confusion_matrix(y_train, y_pred_gnb_train)\n",
        "fig, ax = plt.subplots(figsize=(6, 6))\n",
        "sns.heatmap(cm, annot=True, fmt='d')"
      ]
    },
    {
      "cell_type": "code",
      "execution_count": null,
      "metadata": {
        "id": "orZXk7oLAwGk",
        "outputId": "d6702633-c0dd-4fe5-f8ea-23489764ddc4"
      },
      "outputs": [
        {
          "name": "stderr",
          "output_type": "stream",
          "text": [
            "C:\\Users\\szymo\\AppData\\Local\\Programs\\Python\\Python310\\lib\\site-packages\\sklearn\\metrics\\_classification.py:1344: UndefinedMetricWarning: Precision and F-score are ill-defined and being set to 0.0 in labels with no predicted samples. Use `zero_division` parameter to control this behavior.\n",
            "  _warn_prf(average, modifier, msg_start, len(result))\n",
            "C:\\Users\\szymo\\AppData\\Local\\Programs\\Python\\Python310\\lib\\site-packages\\sklearn\\metrics\\_classification.py:1344: UndefinedMetricWarning: Precision and F-score are ill-defined and being set to 0.0 in labels with no predicted samples. Use `zero_division` parameter to control this behavior.\n",
            "  _warn_prf(average, modifier, msg_start, len(result))\n"
          ]
        },
        {
          "name": "stdout",
          "output_type": "stream",
          "text": [
            "              precision    recall  f1-score   support\n",
            "\n",
            "           0       0.00      0.00      0.00    725638\n",
            "           1       0.37      1.00      0.53    417164\n",
            "\n",
            "    accuracy                           0.37   1142802\n",
            "   macro avg       0.18      0.50      0.27   1142802\n",
            "weighted avg       0.13      0.37      0.20   1142802\n",
            "\n"
          ]
        },
        {
          "name": "stderr",
          "output_type": "stream",
          "text": [
            "C:\\Users\\szymo\\AppData\\Local\\Programs\\Python\\Python310\\lib\\site-packages\\sklearn\\metrics\\_classification.py:1344: UndefinedMetricWarning: Precision and F-score are ill-defined and being set to 0.0 in labels with no predicted samples. Use `zero_division` parameter to control this behavior.\n",
            "  _warn_prf(average, modifier, msg_start, len(result))\n"
          ]
        },
        {
          "data": {
            "text/plain": [
              "<Axes: >"
            ]
          },
          "execution_count": 208,
          "metadata": {},
          "output_type": "execute_result"
        },
        {
          "data": {
            "image/png": "[encoded data removed]",
            "text/plain": [
              "<Figure size 600x600 with 2 Axes>"
            ]
          },
          "metadata": {},
          "output_type": "display_data"
        }
      ],
      "source": [
        "print(classification_report(y_test, y_pred_gnb_test))\n",
        "\n",
        "cm = confusion_matrix(y_test, y_pred_gnb_test)\n",
        "fig, ax = plt.subplots(figsize=(6, 6))\n",
        "sns.heatmap(cm, annot=True, fmt='d', ax=ax)"
      ]
    },
    {
      "cell_type": "markdown",
      "metadata": {
        "id": "3Okt4XdTAwGk"
      },
      "source": [
        "#### RYSUJEMY KRZYWĄ ROC POKAZUJĄCĄ JAKOŚĆ KLASYFIKATORA"
      ]
    },
    {
      "cell_type": "code",
      "execution_count": null,
      "metadata": {
        "id": "yicNEcXkAwGk",
        "outputId": "8f5b2c1d-bd6b-4faf-8f1f-197718a2ab92"
      },
      "outputs": [
        {
          "data": {
            "image/png": "[encoded data removed]",
            "text/plain": [
              "<Figure size 640x480 with 1 Axes>"
            ]
          },
          "metadata": {},
          "output_type": "display_data"
        }
      ],
      "source": [
        "fpr_gnb_train, tpr_gnb_train, thresholds_gnb_train = roc_curve(y_train, y_prob_gnb_train)\n",
        "fpr_gnb_test, tpr_gnb_test, thresholds_gnb_test = roc_curve(y_test, y_prob_gnb_test)\n",
        "\n",
        "# Obliczanie wartości AUC (Area Under the Curve)\n",
        "auc_gnb_train = roc_auc_score(y_train, y_prob_gnb_train)\n",
        "auc_gnb_test = roc_auc_score(y_test, y_prob_gnb_test)\n",
        "\n",
        "# Wykres krzywej ROC dla modelu drzewa decyzyjnego\n",
        "plt.figure()\n",
        "plt.plot(fpr_gnb_train, tpr_gnb_train, label='ROC curve (AUC = %0.2f)' % auc_gnb_train)\n",
        "plt.plot(fpr_gnb_test, tpr_gnb_test, label='ROC curve (AUC = %0.2f)' % auc_gnb_test)\n",
        "plt.plot([0, 1], [0, 1], 'k--')  # Linia przerywana dla losowego klasyfikatora\n",
        "plt.xlim([0.0, 1.0])\n",
        "plt.ylim([0.0, 1.05])\n",
        "plt.xlabel('False Positive Rate')\n",
        "plt.ylabel('True Positive Rate')\n",
        "plt.title('ROC - Gaussian Naive Bayes')\n",
        "plt.legend(loc=\"lower right\")\n",
        "plt.show()"
      ]
    },
    {
      "cell_type": "markdown",
      "metadata": {
        "id": "_QqX69sJwf7L"
      },
      "source": [
        "# NORMALIZACJA"
      ]
    },
    {
      "cell_type": "code",
      "execution_count": null,
      "metadata": {
        "id": "P4gcETgNlZ15"
      },
      "outputs": [],
      "source": [
        "from sklearn.preprocessing import MinMaxScaler\n",
        "\n",
        "mm_scaler = MinMaxScaler()\n",
        "X_train_normal = mm_scaler.fit_transform(X_train)\n",
        "\n",
        "mm_scaler = MinMaxScaler()\n",
        "X_test_normal = mm_scaler.fit_transform(X_test)"
      ]
    },
    {
      "cell_type": "markdown",
      "metadata": {
        "id": "O-BZaxSnwZlm"
      },
      "source": [
        "# K-NAJBLIŻSZYCH SĄSIADÓW"
      ]
    },
    {
      "cell_type": "markdown",
      "metadata": {
        "id": "4twUo9dzAwGl"
      },
      "source": [
        "##### ZBYT DŁUGI PROCES TRENINGU, ODPUŚCILIŚMY"
      ]
    },
    {
      "cell_type": "code",
      "execution_count": null,
      "metadata": {
        "id": "JBgKn1vkAwGl"
      },
      "outputs": [],
      "source": [
        "from sklearn.neighbors import KNeighborsClassifier\n",
        "\n",
        "knn_model = KNeighborsClassifier(n_neighbors=3)\n",
        "knn_model.fit(X_train_stand, y_train)\n",
        "\n",
        "y_pred_knn_train = knn_model.predict(X_train)\n",
        "y_pred_knn_test = knn_model.predict(X_test)\n",
        "y_prob_knn_train = knn_model.predict_proba(X_train)[:, 1]\n",
        "y_prob_knn_test = knn_model.predict_proba(X_test)[:, 1]"
      ]
    },
    {
      "cell_type": "markdown",
      "metadata": {
        "id": "f3IiENf-AwGl"
      },
      "source": [
        "#### SPRAWDZAMY PODSTAWOWE METRYKI I MACIERZ BŁĘDU"
      ]
    },
    {
      "cell_type": "code",
      "execution_count": null,
      "metadata": {
        "id": "p8jwGi9kAwGl"
      },
      "outputs": [],
      "source": [
        "print(classification_report(y_train, y_pred_knn_train))\n",
        "\n",
        "cm = confusion_matrix(y_train, y_pred_knn_train)\n",
        "fig, ax = plt.subplots(figsize=(6, 6))\n",
        "sns.heatmap(cm, annot=True, fmt='d')"
      ]
    },
    {
      "cell_type": "code",
      "execution_count": null,
      "metadata": {
        "id": "NjUh5FoiAwGl"
      },
      "outputs": [],
      "source": [
        "print(classification_report(y_test, y_pred_knn_test))\n",
        "\n",
        "cm = confusion_matrix(y_test, y_pred_knn_test)\n",
        "fig, ax = plt.subplots(figsize=(6, 6))\n",
        "sns.heatmap(cm, annot=True, fmt='d', ax=ax)"
      ]
    },
    {
      "cell_type": "markdown",
      "metadata": {
        "id": "47tjGp0AAwGl"
      },
      "source": [
        "#### RYSUJEMY KRZYWĄ ROC POKAZUJĄCĄ JAKOŚĆ KLASYFIKATORA"
      ]
    },
    {
      "cell_type": "code",
      "execution_count": null,
      "metadata": {
        "id": "usmbvV10AwGl"
      },
      "outputs": [],
      "source": [
        "fpr_knn_train, tpr_knn_train, thresholds_knn_train = roc_curve(y_train, y_prob_knn_train)\n",
        "fpr_knn_test, tpr_knn_test, thresholds_knn_test = roc_curve(y_test, y_prob_knn_test)\n",
        "\n",
        "# Obliczanie wartości AUC (Area Under the Curve)\n",
        "auc_knn_train = roc_auc_score(y_train, y_prob_knn_train)\n",
        "auc_knn_test = roc_auc_score(y_test, y_prob_knn_test)\n",
        "\n",
        "# Wykres krzywej ROC dla modelu drzewa decyzyjnego\n",
        "plt.figure()\n",
        "plt.plot(fpr_knn_train, tpr_knn_train, label='ROC curve (AUC = %0.2f)' % auc_knn_train)\n",
        "plt.plot(fpr_knn_test, tpr_knn_test, label='ROC curve (AUC = %0.2f)' % auc_knn_test)\n",
        "plt.plot([0, 1], [0, 1], 'k--')  # Linia przerywana dla losowego klasyfikatora\n",
        "plt.xlim([0.0, 1.0])\n",
        "plt.ylim([0.0, 1.05])\n",
        "plt.xlabel('False Positive Rate')\n",
        "plt.ylabel('True Positive Rate')\n",
        "plt.title('ROC - Decision Tree')\n",
        "plt.legend(loc=\"lower right\")\n",
        "plt.show()"
      ]
    },
    {
      "cell_type": "markdown",
      "metadata": {
        "id": "CkFIxw5IwVma"
      },
      "source": [
        "# SIEĆ NEURONOWA"
      ]
    },
    {
      "cell_type": "code",
      "execution_count": null,
      "metadata": {
        "id": "gCgeli9RtcWG"
      },
      "outputs": [],
      "source": [
        "from keras.models import Sequential\n",
        "from keras.layers import Dense\n",
        " \n",
        "model = Sequential() \n",
        "model.add(Dense(128, activation='relu', input_dim=X_train_normal.shape[1]))\n",
        "model.add(Dense(1, activation='sigmoid')) "
      ]
    },
    {
      "cell_type": "code",
      "execution_count": null,
      "metadata": {
        "colab": {
          "base_uri": "https://localhost:8080/"
        },
        "id": "nEIjHo-TtmrR",
        "outputId": "90ab38c0-f466-40a5-fa32-26bedc1497b2"
      },
      "outputs": [
        {
          "name": "stdout",
          "output_type": "stream",
          "text": [
            "Model: \"sequential_1\"\n",
            "_________________________________________________________________\n",
            " Layer (type)                Output Shape              Param #   \n",
            "=================================================================\n",
            " dense_2 (Dense)             (None, 128)               5120      \n",
            "                                                                 \n",
            " dense_3 (Dense)             (None, 1)                 129       \n",
            "                                                                 \n",
            "=================================================================\n",
            "Total params: 5,249\n",
            "Trainable params: 5,249\n",
            "Non-trainable params: 0\n",
            "_________________________________________________________________\n"
          ]
        }
      ],
      "source": [
        "model.compile(loss='binary_crossentropy', optimizer='adam', metrics=['accuracy']) \n",
        "model.summary()"
      ]
    },
    {
      "cell_type": "code",
      "execution_count": null,
      "metadata": {
        "id": "1gHncsuewA51"
      },
      "outputs": [],
      "source": [
        "from tensorflow.keras.callbacks import EarlyStopping\n",
        "es = EarlyStopping(monitor='val_accuracy', patience=3, restore_best_weights=True)"
      ]
    },
    {
      "cell_type": "code",
      "execution_count": null,
      "metadata": {
        "colab": {
          "base_uri": "https://localhost:8080/"
        },
        "id": "8QwNsb6ItgMr",
        "outputId": "685c226c-2e41-4ecb-dc42-4367d7bed0d0"
      },
      "outputs": [
        {
          "name": "stdout",
          "output_type": "stream",
          "text": [
            "Epoch 1/10\n",
            "58030/58030 [==============================] - 53s 896us/step - loss: 0.0396 - accuracy: 0.9882 - val_loss: 0.0276 - val_accuracy: 0.9839\n",
            "Epoch 2/10\n",
            "58030/58030 [==============================] - 53s 906us/step - loss: 0.0038 - accuracy: 0.9994 - val_loss: 0.0183 - val_accuracy: 0.9896\n",
            "Epoch 3/10\n",
            "58030/58030 [==============================] - 54s 924us/step - loss: 0.0025 - accuracy: 0.9996 - val_loss: 0.0316 - val_accuracy: 0.9824\n",
            "Epoch 4/10\n",
            "58030/58030 [==============================] - 53s 913us/step - loss: 0.0014 - accuracy: 0.9998 - val_loss: 0.0272 - val_accuracy: 0.9850\n",
            "Epoch 5/10\n",
            "58030/58030 [==============================] - 52s 902us/step - loss: 9.6813e-04 - accuracy: 0.9998 - val_loss: 0.0094 - val_accuracy: 0.9961\n",
            "Epoch 6/10\n",
            "58030/58030 [==============================] - 52s 902us/step - loss: 8.8168e-04 - accuracy: 0.9999 - val_loss: 0.0199 - val_accuracy: 0.9892\n",
            "Epoch 7/10\n",
            "58030/58030 [==============================] - 53s 912us/step - loss: 7.7286e-04 - accuracy: 0.9999 - val_loss: 0.0108 - val_accuracy: 0.9957\n",
            "Epoch 8/10\n",
            "58030/58030 [==============================] - 54s 931us/step - loss: 6.3260e-04 - accuracy: 0.9999 - val_loss: 0.0085 - val_accuracy: 0.9973\n",
            "Epoch 9/10\n",
            "58030/58030 [==============================] - 52s 903us/step - loss: 6.2741e-04 - accuracy: 0.9999 - val_loss: 0.0207 - val_accuracy: 0.9885\n",
            "Epoch 10/10\n",
            "58030/58030 [==============================] - 54s 930us/step - loss: 4.6099e-04 - accuracy: 0.9999 - val_loss: 0.0094 - val_accuracy: 0.9964\n"
          ]
        }
      ],
      "source": [
        "hist = model.fit(X_train_normal, y_train, validation_data=(X_test_normal, y_test), epochs=10, batch_size=100, callbacks=[es])"
      ]
    },
    {
      "cell_type": "markdown",
      "metadata": {
        "id": "D1LeaNYaAwGm"
      },
      "source": [
        "#### RYSUJEMY WYKRES POKAZUJĄCY PRZEBIEG TRANINGU MODELU NA METRYKACH ACCURACY, VAL_ACCURACY, LOSS, VAL_LOSS"
      ]
    },
    {
      "cell_type": "code",
      "execution_count": null,
      "metadata": {
        "colab": {
          "base_uri": "https://localhost:8080/",
          "height": 490
        },
        "id": "xNq6tBrhtk2i",
        "outputId": "43102c8d-ae61-4295-d22e-62fb832881c0"
      },
      "outputs": [
        {
          "data": {
            "text/plain": [
              "[]"
            ]
          },
          "execution_count": 215,
          "metadata": {},
          "output_type": "execute_result"
        },
        {
          "data": {
            "image/png": "[encoded data removed]",
            "text/plain": [
              "<Figure size 640x480 with 1 Axes>"
            ]
          },
          "metadata": {},
          "output_type": "display_data"
        }
      ],
      "source": [
        "acc = hist.history['accuracy']\n",
        "val = hist.history['val_accuracy']\n",
        "loss = hist.history['loss']\n",
        "val_loss = hist.history['val_loss']\n",
        "epochs = range(1, len(acc) + 1)\n",
        " \n",
        "plt.plot(epochs, acc, '-', label='training accuracy')\n",
        "plt.plot(epochs, val, ':', label='validation accuracy')\n",
        "plt.plot(epochs, loss, '-', label='acc_loss')\n",
        "plt.plot(epochs, val_loss, ':', label='val_loss')\n",
        "plt.title('Training and Validation Accuracy')\n",
        "plt.xlabel('Epoch')\n",
        "plt.ylabel('Accuracy')\n",
        "plt.legend(loc='lower right')\n",
        "plt.plot()"
      ]
    },
    {
      "cell_type": "code",
      "execution_count": null,
      "metadata": {
        "id": "1nnlGLqNAwGn"
      },
      "outputs": [],
      "source": []
    }
  ],
  "metadata": {
    "colab": {
      "gpuType": "T4",
      "provenance": []
    },
    "gpuClass": "standard",
    "kernelspec": {
      "display_name": "Python 3 (ipykernel)",
      "language": "python",
      "name": "python3"
    },
    "language_info": {
      "codemirror_mode": {
        "name": "ipython",
        "version": 3
      },
      "file_extension": ".py",
      "mimetype": "text/x-python",
      "name": "python",
      "nbconvert_exporter": "python",
      "pygments_lexer": "ipython3",
      "version": "3.10.9"
    }
  },
  "nbformat": 4,
  "nbformat_minor": 0
}